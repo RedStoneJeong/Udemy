{
 "cells": [
  {
   "cell_type": "markdown",
   "metadata": {},
   "source": [
    "# Coding Exercises (Part 2)"
   ]
  },
  {
   "cell_type": "markdown",
   "metadata": {},
   "source": [
    "### Exercise 11: Cleaning messy Data"
   ]
  },
  {
   "cell_type": "markdown",
   "metadata": {},
   "source": [
    "## Full Data Workflow A-Z: Cleaning Data"
   ]
  },
  {
   "cell_type": "markdown",
   "metadata": {},
   "source": [
    "Now, you will have the opportunity to analyze your own dataset. <br>\n",
    "__Follow the instructions__ and insert your code! You are either requested to \n",
    "- Complete the Code and __Fill in the gaps__. Gaps are marked with \"__---__\" and are __placeholders__ for your code fragment. \n",
    "- Write Code completely __on your own__ "
   ]
  },
  {
   "cell_type": "markdown",
   "metadata": {},
   "source": [
    "In some exercises, you will find questions that can only be answered, if your code is correct and returns the right output! The correct answer is provided below your coding cell. There you can check whether your code is correct."
   ]
  },
  {
   "cell_type": "markdown",
   "metadata": {},
   "source": [
    "If you need a hint, check the __Hints Section__ at the end of this Notebook. Exercises and Hints are numerated accordingly."
   ]
  },
  {
   "cell_type": "markdown",
   "metadata": {},
   "source": [
    "If you need some further help or if you want to check your code, you can also check the __solutions notebook__."
   ]
  },
  {
   "cell_type": "markdown",
   "metadata": {},
   "source": [
    "### Have Fun!"
   ]
  },
  {
   "cell_type": "markdown",
   "metadata": {},
   "source": [
    "--------------------------------------------------------------------------------------------------------------"
   ]
  },
  {
   "cell_type": "markdown",
   "metadata": {},
   "source": [
    "## Option 1: Self_guided"
   ]
  },
  {
   "cell_type": "markdown",
   "metadata": {},
   "source": [
    "__Import__ the cars dataset from the csv-file __cars_unclean.csv__ and inspect. Then, __clean up__ the dataset:\n",
    "\n",
    "- Identify and handle __inconsistent data__\n",
    "- Each column/feature should have the __appropriate/most functional datatype__\n",
    "- Identify and handle __missing values__\n",
    "- Identify and handle __duplicates__\n",
    "- Have a closer look into columns with __strings__ and clean up\n",
    "- Identify and handle __erroneous outliers__ in numerical columns\n",
    "(hint: there might be a \"fat finger\" issue in one column and some value(s) in the mpg column could be in \"gallons per mile\" units)\n",
    "- __Save and export__ the cleaned dataset in a new csv-file (cars_clean.csv)\n",
    "- Change the datatype of appropriate columns to __categorical__."
   ]
  },
  {
   "cell_type": "markdown",
   "metadata": {},
   "source": [
    "--------------------------"
   ]
  },
  {
   "cell_type": "markdown",
   "metadata": {},
   "source": [
    "## Option 2: Guided and Instructed"
   ]
  },
  {
   "cell_type": "markdown",
   "metadata": {},
   "source": [
    "# STOP HERE, IF YOU WANT TO DO THE EXERCISE ON YOUR OWN!"
   ]
  },
  {
   "cell_type": "markdown",
   "metadata": {},
   "source": [
    "+++++++++++++++++++++++++++++++++++++++++++++++++++++++++++++++++++++++++++++++++++++++++++++++++++++++++++++++++++++++++"
   ]
  },
  {
   "cell_type": "code",
   "execution_count": 1,
   "metadata": {
    "ExecuteTime": {
     "end_time": "2023-05-02T12:02:03.911244Z",
     "start_time": "2023-05-02T12:01:59.708075Z"
    }
   },
   "outputs": [],
   "source": [
    "# run the cell!\n",
    "import pandas as pd\n",
    "import numpy as np\n",
    "import matplotlib.pyplot as plt"
   ]
  },
  {
   "cell_type": "code",
   "execution_count": 2,
   "metadata": {
    "ExecuteTime": {
     "end_time": "2023-05-02T12:02:03.957697Z",
     "start_time": "2023-05-02T12:02:03.916708Z"
    },
    "scrolled": true
   },
   "outputs": [],
   "source": [
    "# run the cell!\n",
    "cars = pd.read_csv(\"cars_unclean.csv\")"
   ]
  },
  {
   "cell_type": "markdown",
   "metadata": {},
   "source": [
    "__Inspect__ the DataFrame and identify obviously __inconsistent data__!"
   ]
  },
  {
   "cell_type": "code",
   "execution_count": 3,
   "metadata": {
    "ExecuteTime": {
     "end_time": "2023-05-02T12:02:04.021316Z",
     "start_time": "2023-05-02T12:02:03.963625Z"
    }
   },
   "outputs": [
    {
     "data": {
      "text/html": [
       "<div>\n",
       "<style scoped>\n",
       "    .dataframe tbody tr th:only-of-type {\n",
       "        vertical-align: middle;\n",
       "    }\n",
       "\n",
       "    .dataframe tbody tr th {\n",
       "        vertical-align: top;\n",
       "    }\n",
       "\n",
       "    .dataframe thead th {\n",
       "        text-align: right;\n",
       "    }\n",
       "</style>\n",
       "<table border=\"1\" class=\"dataframe\">\n",
       "  <thead>\n",
       "    <tr style=\"text-align: right;\">\n",
       "      <th></th>\n",
       "      <th>mpg</th>\n",
       "      <th>cylinders</th>\n",
       "      <th>displacement</th>\n",
       "      <th>horsepower</th>\n",
       "      <th>weight</th>\n",
       "      <th>acceleration</th>\n",
       "      <th>model year</th>\n",
       "      <th>origin</th>\n",
       "      <th>name</th>\n",
       "    </tr>\n",
       "  </thead>\n",
       "  <tbody>\n",
       "    <tr>\n",
       "      <th>0</th>\n",
       "      <td>18.0</td>\n",
       "      <td>8</td>\n",
       "      <td>307.0</td>\n",
       "      <td>130.0 hp</td>\n",
       "      <td>3504</td>\n",
       "      <td>12.0</td>\n",
       "      <td>70</td>\n",
       "      <td>United States</td>\n",
       "      <td>chevrolet chevelle malibu</td>\n",
       "    </tr>\n",
       "    <tr>\n",
       "      <th>1</th>\n",
       "      <td>15.0</td>\n",
       "      <td>8</td>\n",
       "      <td>350.0</td>\n",
       "      <td>165.0 hp</td>\n",
       "      <td>3693</td>\n",
       "      <td>11.5</td>\n",
       "      <td>70</td>\n",
       "      <td>United States</td>\n",
       "      <td>buick skylark 320</td>\n",
       "    </tr>\n",
       "    <tr>\n",
       "      <th>2</th>\n",
       "      <td>18.0</td>\n",
       "      <td>8</td>\n",
       "      <td>318.0</td>\n",
       "      <td>150.0 hp</td>\n",
       "      <td>3436</td>\n",
       "      <td>11.0</td>\n",
       "      <td>70</td>\n",
       "      <td>United States</td>\n",
       "      <td>plymouth satellite</td>\n",
       "    </tr>\n",
       "    <tr>\n",
       "      <th>3</th>\n",
       "      <td>16.0</td>\n",
       "      <td>8</td>\n",
       "      <td>304.0</td>\n",
       "      <td>150.0 hp</td>\n",
       "      <td>3433</td>\n",
       "      <td>12.0</td>\n",
       "      <td>70</td>\n",
       "      <td>usa</td>\n",
       "      <td>amc rebel sst</td>\n",
       "    </tr>\n",
       "    <tr>\n",
       "      <th>4</th>\n",
       "      <td>17.0</td>\n",
       "      <td>8</td>\n",
       "      <td>302.0</td>\n",
       "      <td>140.0 hp</td>\n",
       "      <td>3449</td>\n",
       "      <td>10.5</td>\n",
       "      <td>70</td>\n",
       "      <td>usa</td>\n",
       "      <td>FORD TORINO</td>\n",
       "    </tr>\n",
       "    <tr>\n",
       "      <th>5</th>\n",
       "      <td>15.0</td>\n",
       "      <td>8</td>\n",
       "      <td>429.0</td>\n",
       "      <td>198.0 hp</td>\n",
       "      <td>4341</td>\n",
       "      <td>10.0</td>\n",
       "      <td>70</td>\n",
       "      <td>usa</td>\n",
       "      <td>FORD GALAXIE 500</td>\n",
       "    </tr>\n",
       "    <tr>\n",
       "      <th>6</th>\n",
       "      <td>14.0</td>\n",
       "      <td>8</td>\n",
       "      <td>454.0</td>\n",
       "      <td>220.0 hp</td>\n",
       "      <td>4354</td>\n",
       "      <td>9.0</td>\n",
       "      <td>70</td>\n",
       "      <td>usa</td>\n",
       "      <td>chevrolet impala</td>\n",
       "    </tr>\n",
       "    <tr>\n",
       "      <th>7</th>\n",
       "      <td>14.0</td>\n",
       "      <td>8</td>\n",
       "      <td>440.0</td>\n",
       "      <td>215.0 hp</td>\n",
       "      <td>4312</td>\n",
       "      <td>8.5</td>\n",
       "      <td>70</td>\n",
       "      <td>usa</td>\n",
       "      <td>plymouth fury iii</td>\n",
       "    </tr>\n",
       "    <tr>\n",
       "      <th>8</th>\n",
       "      <td>14.0</td>\n",
       "      <td>8</td>\n",
       "      <td>455.0</td>\n",
       "      <td>225.0 hp</td>\n",
       "      <td>4425</td>\n",
       "      <td>10.0</td>\n",
       "      <td>70</td>\n",
       "      <td>usa</td>\n",
       "      <td>pontiac catalina</td>\n",
       "    </tr>\n",
       "    <tr>\n",
       "      <th>9</th>\n",
       "      <td>15.0</td>\n",
       "      <td>8</td>\n",
       "      <td>390.0</td>\n",
       "      <td>190.0 hp</td>\n",
       "      <td>3850</td>\n",
       "      <td>8.5</td>\n",
       "      <td>70</td>\n",
       "      <td>usa</td>\n",
       "      <td>amc ambassador dpl</td>\n",
       "    </tr>\n",
       "    <tr>\n",
       "      <th>10</th>\n",
       "      <td>15.0</td>\n",
       "      <td>8</td>\n",
       "      <td>383.0</td>\n",
       "      <td>170.0 hp</td>\n",
       "      <td>3563</td>\n",
       "      <td>10.0</td>\n",
       "      <td>70</td>\n",
       "      <td>usa</td>\n",
       "      <td>dodge challenger se</td>\n",
       "    </tr>\n",
       "    <tr>\n",
       "      <th>11</th>\n",
       "      <td>14.0</td>\n",
       "      <td>8</td>\n",
       "      <td>340.0</td>\n",
       "      <td>160.0 hp</td>\n",
       "      <td>3609</td>\n",
       "      <td>8.0</td>\n",
       "      <td>70</td>\n",
       "      <td>usa</td>\n",
       "      <td>plymouth 'cuda 340</td>\n",
       "    </tr>\n",
       "    <tr>\n",
       "      <th>12</th>\n",
       "      <td>15.0</td>\n",
       "      <td>8</td>\n",
       "      <td>400.0</td>\n",
       "      <td>150.0 hp</td>\n",
       "      <td>3761</td>\n",
       "      <td>9.5</td>\n",
       "      <td>70</td>\n",
       "      <td>usa</td>\n",
       "      <td>chevrolet monte carlo</td>\n",
       "    </tr>\n",
       "    <tr>\n",
       "      <th>13</th>\n",
       "      <td>14.0</td>\n",
       "      <td>8</td>\n",
       "      <td>455.0</td>\n",
       "      <td>225.0 hp</td>\n",
       "      <td>3086</td>\n",
       "      <td>10.0</td>\n",
       "      <td>70</td>\n",
       "      <td>usa</td>\n",
       "      <td>buick estate wagon (sw)</td>\n",
       "    </tr>\n",
       "    <tr>\n",
       "      <th>14</th>\n",
       "      <td>22.0</td>\n",
       "      <td>6</td>\n",
       "      <td>198.0</td>\n",
       "      <td>95.0 hp</td>\n",
       "      <td>2833</td>\n",
       "      <td>15.5</td>\n",
       "      <td>70</td>\n",
       "      <td>usa</td>\n",
       "      <td>plymouth duster</td>\n",
       "    </tr>\n",
       "    <tr>\n",
       "      <th>15</th>\n",
       "      <td>18.0</td>\n",
       "      <td>6</td>\n",
       "      <td>199.0</td>\n",
       "      <td>97.0 hp</td>\n",
       "      <td>2774</td>\n",
       "      <td>15.5</td>\n",
       "      <td>70</td>\n",
       "      <td>usa</td>\n",
       "      <td>amc hornet</td>\n",
       "    </tr>\n",
       "    <tr>\n",
       "      <th>16</th>\n",
       "      <td>21.0</td>\n",
       "      <td>6</td>\n",
       "      <td>200.0</td>\n",
       "      <td>85.0 hp</td>\n",
       "      <td>2587</td>\n",
       "      <td>16.0</td>\n",
       "      <td>70</td>\n",
       "      <td>usa</td>\n",
       "      <td>ford maverick</td>\n",
       "    </tr>\n",
       "    <tr>\n",
       "      <th>17</th>\n",
       "      <td>26.0</td>\n",
       "      <td>4</td>\n",
       "      <td>97.0</td>\n",
       "      <td>46.0 hp</td>\n",
       "      <td>1835</td>\n",
       "      <td>20.5</td>\n",
       "      <td>70</td>\n",
       "      <td>europe</td>\n",
       "      <td>vw 1131 deluxe sedan</td>\n",
       "    </tr>\n",
       "    <tr>\n",
       "      <th>18</th>\n",
       "      <td>25.0</td>\n",
       "      <td>4</td>\n",
       "      <td>110.0</td>\n",
       "      <td>87.0 hp</td>\n",
       "      <td>2672</td>\n",
       "      <td>17.5</td>\n",
       "      <td>70</td>\n",
       "      <td>europe</td>\n",
       "      <td>peugeot 504</td>\n",
       "    </tr>\n",
       "    <tr>\n",
       "      <th>19</th>\n",
       "      <td>24.0</td>\n",
       "      <td>4</td>\n",
       "      <td>107.0</td>\n",
       "      <td>90.0 hp</td>\n",
       "      <td>2430</td>\n",
       "      <td>14.5</td>\n",
       "      <td>70</td>\n",
       "      <td>europe</td>\n",
       "      <td>audi 100 ls</td>\n",
       "    </tr>\n",
       "  </tbody>\n",
       "</table>\n",
       "</div>"
      ],
      "text/plain": [
       "     mpg  cylinders  displacement horsepower  weight  acceleration  \\\n",
       "0   18.0          8         307.0   130.0 hp    3504          12.0   \n",
       "1   15.0          8         350.0   165.0 hp    3693          11.5   \n",
       "2   18.0          8         318.0   150.0 hp    3436          11.0   \n",
       "3   16.0          8         304.0   150.0 hp    3433          12.0   \n",
       "4   17.0          8         302.0   140.0 hp    3449          10.5   \n",
       "5   15.0          8         429.0   198.0 hp    4341          10.0   \n",
       "6   14.0          8         454.0   220.0 hp    4354           9.0   \n",
       "7   14.0          8         440.0   215.0 hp    4312           8.5   \n",
       "8   14.0          8         455.0   225.0 hp    4425          10.0   \n",
       "9   15.0          8         390.0   190.0 hp    3850           8.5   \n",
       "10  15.0          8         383.0   170.0 hp    3563          10.0   \n",
       "11  14.0          8         340.0   160.0 hp    3609           8.0   \n",
       "12  15.0          8         400.0   150.0 hp    3761           9.5   \n",
       "13  14.0          8         455.0   225.0 hp    3086          10.0   \n",
       "14  22.0          6         198.0    95.0 hp    2833          15.5   \n",
       "15  18.0          6         199.0    97.0 hp    2774          15.5   \n",
       "16  21.0          6         200.0    85.0 hp    2587          16.0   \n",
       "17  26.0          4          97.0    46.0 hp    1835          20.5   \n",
       "18  25.0          4         110.0    87.0 hp    2672          17.5   \n",
       "19  24.0          4         107.0    90.0 hp    2430          14.5   \n",
       "\n",
       "    model year         origin                          name  \n",
       "0           70  United States    chevrolet chevelle malibu   \n",
       "1           70  United States            buick skylark 320   \n",
       "2           70  United States           plymouth satellite   \n",
       "3           70            usa                amc rebel sst   \n",
       "4           70            usa                  FORD TORINO   \n",
       "5           70            usa             FORD GALAXIE 500   \n",
       "6           70            usa             chevrolet impala   \n",
       "7           70            usa            plymouth fury iii   \n",
       "8           70            usa             pontiac catalina   \n",
       "9           70            usa           amc ambassador dpl   \n",
       "10          70            usa          dodge challenger se   \n",
       "11          70            usa           plymouth 'cuda 340   \n",
       "12          70            usa        chevrolet monte carlo   \n",
       "13          70            usa      buick estate wagon (sw)   \n",
       "14          70            usa              plymouth duster   \n",
       "15          70            usa                   amc hornet   \n",
       "16          70            usa                ford maverick   \n",
       "17          70         europe         vw 1131 deluxe sedan   \n",
       "18          70         europe                  peugeot 504   \n",
       "19          70         europe                  audi 100 ls   "
      ]
     },
     "execution_count": 3,
     "metadata": {},
     "output_type": "execute_result"
    }
   ],
   "source": [
    "# run the cell!\n",
    "cars.head(20)"
   ]
  },
  {
   "cell_type": "code",
   "execution_count": 5,
   "metadata": {
    "ExecuteTime": {
     "end_time": "2023-05-02T12:02:25.255199Z",
     "start_time": "2023-05-02T12:02:25.208955Z"
    }
   },
   "outputs": [
    {
     "data": {
      "text/html": [
       "<div>\n",
       "<style scoped>\n",
       "    .dataframe tbody tr th:only-of-type {\n",
       "        vertical-align: middle;\n",
       "    }\n",
       "\n",
       "    .dataframe tbody tr th {\n",
       "        vertical-align: top;\n",
       "    }\n",
       "\n",
       "    .dataframe thead th {\n",
       "        text-align: right;\n",
       "    }\n",
       "</style>\n",
       "<table border=\"1\" class=\"dataframe\">\n",
       "  <thead>\n",
       "    <tr style=\"text-align: right;\">\n",
       "      <th></th>\n",
       "      <th>mpg</th>\n",
       "      <th>cylinders</th>\n",
       "      <th>displacement</th>\n",
       "      <th>horsepower</th>\n",
       "      <th>weight</th>\n",
       "      <th>acceleration</th>\n",
       "      <th>model year</th>\n",
       "      <th>origin</th>\n",
       "      <th>name</th>\n",
       "    </tr>\n",
       "  </thead>\n",
       "  <tbody>\n",
       "    <tr>\n",
       "      <th>319</th>\n",
       "      <td>25.0</td>\n",
       "      <td>4</td>\n",
       "      <td>104.0</td>\n",
       "      <td>95.0 hp</td>\n",
       "      <td>2375</td>\n",
       "      <td>17.5</td>\n",
       "      <td>70</td>\n",
       "      <td>europe</td>\n",
       "      <td>saab 99e</td>\n",
       "    </tr>\n",
       "    <tr>\n",
       "      <th>320</th>\n",
       "      <td>14.0</td>\n",
       "      <td>8</td>\n",
       "      <td>340.0</td>\n",
       "      <td>160.0 hp</td>\n",
       "      <td>3609</td>\n",
       "      <td>8.0</td>\n",
       "      <td>70</td>\n",
       "      <td>usa</td>\n",
       "      <td>plymouth 'cuda 340</td>\n",
       "    </tr>\n",
       "    <tr>\n",
       "      <th>321</th>\n",
       "      <td>13.0</td>\n",
       "      <td>8</td>\n",
       "      <td>360.0</td>\n",
       "      <td>170.0 hp</td>\n",
       "      <td>4654</td>\n",
       "      <td>13.0</td>\n",
       "      <td>73</td>\n",
       "      <td>usa</td>\n",
       "      <td>plymouth custom suburb</td>\n",
       "    </tr>\n",
       "    <tr>\n",
       "      <th>322</th>\n",
       "      <td>16.0</td>\n",
       "      <td>6</td>\n",
       "      <td>258.0</td>\n",
       "      <td>110.0 hp</td>\n",
       "      <td>3632</td>\n",
       "      <td>18.0</td>\n",
       "      <td>74</td>\n",
       "      <td>usa</td>\n",
       "      <td>amc matador</td>\n",
       "    </tr>\n",
       "    <tr>\n",
       "      <th>323</th>\n",
       "      <td>24.3</td>\n",
       "      <td>4</td>\n",
       "      <td>151.0</td>\n",
       "      <td>90.0 hp</td>\n",
       "      <td>3003</td>\n",
       "      <td>20.1</td>\n",
       "      <td>80</td>\n",
       "      <td>usa</td>\n",
       "      <td>amc concord</td>\n",
       "    </tr>\n",
       "    <tr>\n",
       "      <th>324</th>\n",
       "      <td>12.0</td>\n",
       "      <td>8</td>\n",
       "      <td>429.0</td>\n",
       "      <td>198.0 hp</td>\n",
       "      <td>4952</td>\n",
       "      <td>11.5</td>\n",
       "      <td>73</td>\n",
       "      <td>usa</td>\n",
       "      <td>mercury marquis brougham</td>\n",
       "    </tr>\n",
       "    <tr>\n",
       "      <th>325</th>\n",
       "      <td>27.0</td>\n",
       "      <td>4</td>\n",
       "      <td>101.0</td>\n",
       "      <td>83.0 hp</td>\n",
       "      <td>2202</td>\n",
       "      <td>15.3</td>\n",
       "      <td>76</td>\n",
       "      <td>europe</td>\n",
       "      <td>renault 12tl</td>\n",
       "    </tr>\n",
       "    <tr>\n",
       "      <th>326</th>\n",
       "      <td>17.0</td>\n",
       "      <td>6</td>\n",
       "      <td>250.0</td>\n",
       "      <td>100.0 hp</td>\n",
       "      <td>3329</td>\n",
       "      <td>15.5</td>\n",
       "      <td>71</td>\n",
       "      <td>usa</td>\n",
       "      <td>chevrolet chevelle malibu</td>\n",
       "    </tr>\n",
       "    <tr>\n",
       "      <th>327</th>\n",
       "      <td>14.5</td>\n",
       "      <td>8</td>\n",
       "      <td>351.0</td>\n",
       "      <td>152.0 hp</td>\n",
       "      <td>4215</td>\n",
       "      <td>12.8</td>\n",
       "      <td>76</td>\n",
       "      <td>usa</td>\n",
       "      <td>ford gran torino</td>\n",
       "    </tr>\n",
       "    <tr>\n",
       "      <th>328</th>\n",
       "      <td>25.0</td>\n",
       "      <td>6</td>\n",
       "      <td>181.0</td>\n",
       "      <td>110.0 hp</td>\n",
       "      <td>2945</td>\n",
       "      <td>16.4</td>\n",
       "      <td>82</td>\n",
       "      <td>usa</td>\n",
       "      <td>buick century limited</td>\n",
       "    </tr>\n",
       "  </tbody>\n",
       "</table>\n",
       "</div>"
      ],
      "text/plain": [
       "      mpg  cylinders  displacement horsepower  weight  acceleration  \\\n",
       "319  25.0          4         104.0    95.0 hp    2375          17.5   \n",
       "320  14.0          8         340.0   160.0 hp    3609           8.0   \n",
       "321  13.0          8         360.0   170.0 hp    4654          13.0   \n",
       "322  16.0          6         258.0   110.0 hp    3632          18.0   \n",
       "323  24.3          4         151.0    90.0 hp    3003          20.1   \n",
       "324  12.0          8         429.0   198.0 hp    4952          11.5   \n",
       "325  27.0          4         101.0    83.0 hp    2202          15.3   \n",
       "326  17.0          6         250.0   100.0 hp    3329          15.5   \n",
       "327  14.5          8         351.0   152.0 hp    4215          12.8   \n",
       "328  25.0          6         181.0   110.0 hp    2945          16.4   \n",
       "\n",
       "     model year  origin                          name  \n",
       "319          70  europe                     saab 99e   \n",
       "320          70     usa           plymouth 'cuda 340   \n",
       "321          73     usa       plymouth custom suburb   \n",
       "322          74     usa                  amc matador   \n",
       "323          80     usa                  amc concord   \n",
       "324          73     usa     mercury marquis brougham   \n",
       "325          76  europe                 renault 12tl   \n",
       "326          71     usa    chevrolet chevelle malibu   \n",
       "327          76     usa             ford gran torino   \n",
       "328          82     usa        buick century limited   "
      ]
     },
     "execution_count": 5,
     "metadata": {},
     "output_type": "execute_result"
    }
   ],
   "source": [
    "# run the cell!\n",
    "cars.tail(10)"
   ]
  },
  {
   "cell_type": "code",
   "execution_count": 6,
   "metadata": {
    "ExecuteTime": {
     "end_time": "2023-05-02T12:02:27.992131Z",
     "start_time": "2023-05-02T12:02:27.939736Z"
    }
   },
   "outputs": [
    {
     "name": "stdout",
     "output_type": "stream",
     "text": [
      "<class 'pandas.core.frame.DataFrame'>\n",
      "RangeIndex: 329 entries, 0 to 328\n",
      "Data columns (total 9 columns):\n",
      " #   Column        Non-Null Count  Dtype  \n",
      "---  ------        --------------  -----  \n",
      " 0   mpg           329 non-null    float64\n",
      " 1   cylinders     329 non-null    int64  \n",
      " 2   displacement  329 non-null    float64\n",
      " 3   horsepower    329 non-null    object \n",
      " 4   weight        329 non-null    int64  \n",
      " 5   acceleration  329 non-null    float64\n",
      " 6   model year    329 non-null    int64  \n",
      " 7   origin        329 non-null    object \n",
      " 8   name          329 non-null    object \n",
      "dtypes: float64(3), int64(3), object(3)\n",
      "memory usage: 23.3+ KB\n"
     ]
    }
   ],
   "source": [
    "# run the cell! \n",
    "cars.info()"
   ]
  },
  {
   "cell_type": "markdown",
   "metadata": {},
   "source": [
    "85. __Identify__ one __column label__ that should be changed and adjust/__rename__ the column label! __Fill in the gaps__!"
   ]
  },
  {
   "cell_type": "code",
   "execution_count": 40,
   "metadata": {
    "ExecuteTime": {
     "end_time": "2023-05-02T12:22:49.724718Z",
     "start_time": "2023-05-02T12:22:49.713751Z"
    }
   },
   "outputs": [],
   "source": [
    "cars.rename(columns = {'model year' : 'model_year'}, inplace = True)"
   ]
  },
  {
   "cell_type": "markdown",
   "metadata": {},
   "source": [
    "86. Have a closer look to the __origin__ column by analyzing the __frequency/count__ of unique values! Can you find __any inconsistency__?"
   ]
  },
  {
   "cell_type": "code",
   "execution_count": 8,
   "metadata": {
    "ExecuteTime": {
     "end_time": "2023-05-02T12:03:37.708843Z",
     "start_time": "2023-05-02T12:03:37.678724Z"
    }
   },
   "outputs": [
    {
     "data": {
      "text/plain": [
       "usa              254\n",
       "europe            72\n",
       "United States      3\n",
       "Name: origin, dtype: int64"
      ]
     },
     "execution_count": 8,
     "metadata": {},
     "output_type": "execute_result"
    }
   ],
   "source": [
    "cars.origin.value_counts()"
   ]
  },
  {
   "cell_type": "markdown",
   "metadata": {},
   "source": [
    "There are the values ... usa and United States"
   ]
  },
  {
   "cell_type": "markdown",
   "metadata": {},
   "source": [
    "87. __Replace__ the value __\"United States\"__ in the origin column! __Save__ the change!"
   ]
  },
  {
   "cell_type": "code",
   "execution_count": 10,
   "metadata": {
    "ExecuteTime": {
     "end_time": "2023-05-02T12:04:55.940282Z",
     "start_time": "2023-05-02T12:04:55.931101Z"
    }
   },
   "outputs": [],
   "source": [
    "cars.origin.replace(to_replace='United States', value='usa', inplace=True)"
   ]
  },
  {
   "cell_type": "markdown",
   "metadata": {},
   "source": [
    "Inspect and __identify__ the __problem__ in the column __horsepower__!"
   ]
  },
  {
   "cell_type": "code",
   "execution_count": 11,
   "metadata": {
    "ExecuteTime": {
     "end_time": "2023-05-02T12:04:58.211680Z",
     "start_time": "2023-05-02T12:04:58.193420Z"
    }
   },
   "outputs": [
    {
     "data": {
      "text/plain": [
       "0    130.0 hp\n",
       "1    165.0 hp\n",
       "2    150.0 hp\n",
       "3    150.0 hp\n",
       "4    140.0 hp\n",
       "Name: horsepower, dtype: object"
      ]
     },
     "execution_count": 11,
     "metadata": {},
     "output_type": "execute_result"
    }
   ],
   "source": [
    "# run the cell!\n",
    "cars.horsepower.head()"
   ]
  },
  {
   "cell_type": "markdown",
   "metadata": {},
   "source": [
    "Datatype should be ... numerical. But first of all, we need to remove...?"
   ]
  },
  {
   "cell_type": "markdown",
   "metadata": {},
   "source": [
    "88. Apply the appropriate __string operation__ to __remove \"hp\"__ from the horsepower column! Pay attention to __whitespaces__! __Overwrite__ the horsepower column!"
   ]
  },
  {
   "cell_type": "code",
   "execution_count": 15,
   "metadata": {
    "ExecuteTime": {
     "end_time": "2023-05-02T12:11:40.806989Z",
     "start_time": "2023-05-02T12:11:40.790001Z"
    }
   },
   "outputs": [],
   "source": [
    "#horsepower열의 hp와 공백 제거하고 오버라이딩\n",
    "cars.horsepower = cars.horsepower.str.replace(' hp', '') #str로바꾸고 replace"
   ]
  },
  {
   "cell_type": "code",
   "execution_count": 16,
   "metadata": {
    "ExecuteTime": {
     "end_time": "2023-05-02T12:11:42.967529Z",
     "start_time": "2023-05-02T12:11:42.927771Z"
    }
   },
   "outputs": [
    {
     "data": {
      "text/html": [
       "<div>\n",
       "<style scoped>\n",
       "    .dataframe tbody tr th:only-of-type {\n",
       "        vertical-align: middle;\n",
       "    }\n",
       "\n",
       "    .dataframe tbody tr th {\n",
       "        vertical-align: top;\n",
       "    }\n",
       "\n",
       "    .dataframe thead th {\n",
       "        text-align: right;\n",
       "    }\n",
       "</style>\n",
       "<table border=\"1\" class=\"dataframe\">\n",
       "  <thead>\n",
       "    <tr style=\"text-align: right;\">\n",
       "      <th></th>\n",
       "      <th>mpg</th>\n",
       "      <th>cylinders</th>\n",
       "      <th>displacement</th>\n",
       "      <th>horsepower</th>\n",
       "      <th>weight</th>\n",
       "      <th>acceleration</th>\n",
       "      <th>model year</th>\n",
       "      <th>origin</th>\n",
       "      <th>name</th>\n",
       "    </tr>\n",
       "  </thead>\n",
       "  <tbody>\n",
       "    <tr>\n",
       "      <th>0</th>\n",
       "      <td>18.0</td>\n",
       "      <td>8</td>\n",
       "      <td>307.0</td>\n",
       "      <td>130.0</td>\n",
       "      <td>3504</td>\n",
       "      <td>12.0</td>\n",
       "      <td>70</td>\n",
       "      <td>usa</td>\n",
       "      <td>chevrolet chevelle malibu</td>\n",
       "    </tr>\n",
       "    <tr>\n",
       "      <th>1</th>\n",
       "      <td>15.0</td>\n",
       "      <td>8</td>\n",
       "      <td>350.0</td>\n",
       "      <td>165.0</td>\n",
       "      <td>3693</td>\n",
       "      <td>11.5</td>\n",
       "      <td>70</td>\n",
       "      <td>usa</td>\n",
       "      <td>buick skylark 320</td>\n",
       "    </tr>\n",
       "    <tr>\n",
       "      <th>2</th>\n",
       "      <td>18.0</td>\n",
       "      <td>8</td>\n",
       "      <td>318.0</td>\n",
       "      <td>150.0</td>\n",
       "      <td>3436</td>\n",
       "      <td>11.0</td>\n",
       "      <td>70</td>\n",
       "      <td>usa</td>\n",
       "      <td>plymouth satellite</td>\n",
       "    </tr>\n",
       "    <tr>\n",
       "      <th>3</th>\n",
       "      <td>16.0</td>\n",
       "      <td>8</td>\n",
       "      <td>304.0</td>\n",
       "      <td>150.0</td>\n",
       "      <td>3433</td>\n",
       "      <td>12.0</td>\n",
       "      <td>70</td>\n",
       "      <td>usa</td>\n",
       "      <td>amc rebel sst</td>\n",
       "    </tr>\n",
       "    <tr>\n",
       "      <th>4</th>\n",
       "      <td>17.0</td>\n",
       "      <td>8</td>\n",
       "      <td>302.0</td>\n",
       "      <td>140.0</td>\n",
       "      <td>3449</td>\n",
       "      <td>10.5</td>\n",
       "      <td>70</td>\n",
       "      <td>usa</td>\n",
       "      <td>FORD TORINO</td>\n",
       "    </tr>\n",
       "  </tbody>\n",
       "</table>\n",
       "</div>"
      ],
      "text/plain": [
       "    mpg  cylinders  displacement horsepower  weight  acceleration  model year  \\\n",
       "0  18.0          8         307.0      130.0    3504          12.0          70   \n",
       "1  15.0          8         350.0      165.0    3693          11.5          70   \n",
       "2  18.0          8         318.0      150.0    3436          11.0          70   \n",
       "3  16.0          8         304.0      150.0    3433          12.0          70   \n",
       "4  17.0          8         302.0      140.0    3449          10.5          70   \n",
       "\n",
       "  origin                          name  \n",
       "0    usa    chevrolet chevelle malibu   \n",
       "1    usa            buick skylark 320   \n",
       "2    usa           plymouth satellite   \n",
       "3    usa                amc rebel sst   \n",
       "4    usa                  FORD TORINO   "
      ]
     },
     "execution_count": 16,
     "metadata": {},
     "output_type": "execute_result"
    }
   ],
   "source": [
    "# run the cell and inspect!\n",
    "cars.head()"
   ]
  },
  {
   "cell_type": "markdown",
   "metadata": {},
   "source": [
    "Run and inspect, anything __strange__?"
   ]
  },
  {
   "cell_type": "code",
   "execution_count": 19,
   "metadata": {
    "ExecuteTime": {
     "end_time": "2023-05-02T12:13:14.796882Z",
     "start_time": "2023-05-02T12:13:14.773951Z"
    },
    "scrolled": true
   },
   "outputs": [
    {
     "data": {
      "text/plain": [
       "150.0    22\n",
       "90.0     19\n",
       "110.0    19\n",
       "100.0    16\n",
       "88.0     14\n",
       "         ..\n",
       "91.0      1\n",
       "148.0     1\n",
       "102.0     1\n",
       "58.0      1\n",
       "82.0      1\n",
       "Name: horsepower, Length: 86, dtype: int64"
      ]
     },
     "execution_count": 19,
     "metadata": {},
     "output_type": "execute_result"
    }
   ],
   "source": [
    "# run the cell!\n",
    "cars.horsepower.value_counts()"
   ]
  },
  {
   "cell_type": "markdown",
   "metadata": {},
   "source": [
    "There are 6 entries with the value ... \"Not available\""
   ]
  },
  {
   "cell_type": "markdown",
   "metadata": {},
   "source": [
    "89. Create __\"real\" missing values__ in the column horsepower! __Save__ the change! __Fill in the gaps__!"
   ]
  },
  {
   "cell_type": "code",
   "execution_count": 21,
   "metadata": {
    "ExecuteTime": {
     "end_time": "2023-05-02T12:15:41.381600Z",
     "start_time": "2023-05-02T12:15:41.367637Z"
    }
   },
   "outputs": [],
   "source": [
    "cars.horsepower.replace(\"Not available\", np.nan, inplace = True)"
   ]
  },
  {
   "cell_type": "markdown",
   "metadata": {},
   "source": [
    "90. Now you can __convert the datatype__ in the column __horsepower__! __Overwrite__ the column!"
   ]
  },
  {
   "cell_type": "code",
   "execution_count": 23,
   "metadata": {
    "ExecuteTime": {
     "end_time": "2023-05-02T12:16:48.342278Z",
     "start_time": "2023-05-02T12:16:48.333298Z"
    }
   },
   "outputs": [],
   "source": [
    "cars.horsepower = cars.horsepower.astype('float')"
   ]
  },
  {
   "cell_type": "markdown",
   "metadata": {},
   "source": [
    "Inspect!"
   ]
  },
  {
   "cell_type": "code",
   "execution_count": 24,
   "metadata": {
    "ExecuteTime": {
     "end_time": "2023-05-02T12:16:50.000691Z",
     "start_time": "2023-05-02T12:16:49.969577Z"
    }
   },
   "outputs": [
    {
     "name": "stdout",
     "output_type": "stream",
     "text": [
      "<class 'pandas.core.frame.DataFrame'>\n",
      "RangeIndex: 329 entries, 0 to 328\n",
      "Data columns (total 9 columns):\n",
      " #   Column        Non-Null Count  Dtype  \n",
      "---  ------        --------------  -----  \n",
      " 0   mpg           329 non-null    float64\n",
      " 1   cylinders     329 non-null    int64  \n",
      " 2   displacement  329 non-null    float64\n",
      " 3   horsepower    323 non-null    float64\n",
      " 4   weight        329 non-null    int64  \n",
      " 5   acceleration  329 non-null    float64\n",
      " 6   model year    329 non-null    int64  \n",
      " 7   origin        329 non-null    object \n",
      " 8   name          329 non-null    object \n",
      "dtypes: float64(4), int64(3), object(2)\n",
      "memory usage: 23.3+ KB\n"
     ]
    }
   ],
   "source": [
    "# run the cell!\n",
    "cars.info()"
   ]
  },
  {
   "cell_type": "code",
   "execution_count": 25,
   "metadata": {
    "ExecuteTime": {
     "end_time": "2023-05-02T12:16:54.236925Z",
     "start_time": "2023-05-02T12:16:54.186902Z"
    }
   },
   "outputs": [
    {
     "data": {
      "text/html": [
       "<div>\n",
       "<style scoped>\n",
       "    .dataframe tbody tr th:only-of-type {\n",
       "        vertical-align: middle;\n",
       "    }\n",
       "\n",
       "    .dataframe tbody tr th {\n",
       "        vertical-align: top;\n",
       "    }\n",
       "\n",
       "    .dataframe thead th {\n",
       "        text-align: right;\n",
       "    }\n",
       "</style>\n",
       "<table border=\"1\" class=\"dataframe\">\n",
       "  <thead>\n",
       "    <tr style=\"text-align: right;\">\n",
       "      <th></th>\n",
       "      <th>mpg</th>\n",
       "      <th>cylinders</th>\n",
       "      <th>displacement</th>\n",
       "      <th>horsepower</th>\n",
       "      <th>weight</th>\n",
       "      <th>acceleration</th>\n",
       "      <th>model year</th>\n",
       "      <th>origin</th>\n",
       "      <th>name</th>\n",
       "    </tr>\n",
       "  </thead>\n",
       "  <tbody>\n",
       "    <tr>\n",
       "      <th>0</th>\n",
       "      <td>18.0</td>\n",
       "      <td>8</td>\n",
       "      <td>307.0</td>\n",
       "      <td>130.0</td>\n",
       "      <td>3504</td>\n",
       "      <td>12.0</td>\n",
       "      <td>70</td>\n",
       "      <td>usa</td>\n",
       "      <td>chevrolet chevelle malibu</td>\n",
       "    </tr>\n",
       "    <tr>\n",
       "      <th>1</th>\n",
       "      <td>15.0</td>\n",
       "      <td>8</td>\n",
       "      <td>350.0</td>\n",
       "      <td>165.0</td>\n",
       "      <td>3693</td>\n",
       "      <td>11.5</td>\n",
       "      <td>70</td>\n",
       "      <td>usa</td>\n",
       "      <td>buick skylark 320</td>\n",
       "    </tr>\n",
       "    <tr>\n",
       "      <th>2</th>\n",
       "      <td>18.0</td>\n",
       "      <td>8</td>\n",
       "      <td>318.0</td>\n",
       "      <td>150.0</td>\n",
       "      <td>3436</td>\n",
       "      <td>11.0</td>\n",
       "      <td>70</td>\n",
       "      <td>usa</td>\n",
       "      <td>plymouth satellite</td>\n",
       "    </tr>\n",
       "    <tr>\n",
       "      <th>3</th>\n",
       "      <td>16.0</td>\n",
       "      <td>8</td>\n",
       "      <td>304.0</td>\n",
       "      <td>150.0</td>\n",
       "      <td>3433</td>\n",
       "      <td>12.0</td>\n",
       "      <td>70</td>\n",
       "      <td>usa</td>\n",
       "      <td>amc rebel sst</td>\n",
       "    </tr>\n",
       "    <tr>\n",
       "      <th>4</th>\n",
       "      <td>17.0</td>\n",
       "      <td>8</td>\n",
       "      <td>302.0</td>\n",
       "      <td>140.0</td>\n",
       "      <td>3449</td>\n",
       "      <td>10.5</td>\n",
       "      <td>70</td>\n",
       "      <td>usa</td>\n",
       "      <td>FORD TORINO</td>\n",
       "    </tr>\n",
       "    <tr>\n",
       "      <th>5</th>\n",
       "      <td>15.0</td>\n",
       "      <td>8</td>\n",
       "      <td>429.0</td>\n",
       "      <td>198.0</td>\n",
       "      <td>4341</td>\n",
       "      <td>10.0</td>\n",
       "      <td>70</td>\n",
       "      <td>usa</td>\n",
       "      <td>FORD GALAXIE 500</td>\n",
       "    </tr>\n",
       "    <tr>\n",
       "      <th>6</th>\n",
       "      <td>14.0</td>\n",
       "      <td>8</td>\n",
       "      <td>454.0</td>\n",
       "      <td>220.0</td>\n",
       "      <td>4354</td>\n",
       "      <td>9.0</td>\n",
       "      <td>70</td>\n",
       "      <td>usa</td>\n",
       "      <td>chevrolet impala</td>\n",
       "    </tr>\n",
       "  </tbody>\n",
       "</table>\n",
       "</div>"
      ],
      "text/plain": [
       "    mpg  cylinders  displacement  horsepower  weight  acceleration  \\\n",
       "0  18.0          8         307.0       130.0    3504          12.0   \n",
       "1  15.0          8         350.0       165.0    3693          11.5   \n",
       "2  18.0          8         318.0       150.0    3436          11.0   \n",
       "3  16.0          8         304.0       150.0    3433          12.0   \n",
       "4  17.0          8         302.0       140.0    3449          10.5   \n",
       "5  15.0          8         429.0       198.0    4341          10.0   \n",
       "6  14.0          8         454.0       220.0    4354           9.0   \n",
       "\n",
       "   model year origin                          name  \n",
       "0          70    usa    chevrolet chevelle malibu   \n",
       "1          70    usa            buick skylark 320   \n",
       "2          70    usa           plymouth satellite   \n",
       "3          70    usa                amc rebel sst   \n",
       "4          70    usa                  FORD TORINO   \n",
       "5          70    usa             FORD GALAXIE 500   \n",
       "6          70    usa             chevrolet impala   "
      ]
     },
     "execution_count": 25,
     "metadata": {},
     "output_type": "execute_result"
    }
   ],
   "source": [
    "# run the cell!\n",
    "cars.head(7)"
   ]
  },
  {
   "cell_type": "markdown",
   "metadata": {},
   "source": [
    "Any __inconsistencies__ in the column __name__? Inspect one element! "
   ]
  },
  {
   "cell_type": "code",
   "execution_count": 26,
   "metadata": {
    "ExecuteTime": {
     "end_time": "2023-05-02T12:17:03.538762Z",
     "start_time": "2023-05-02T12:17:03.519632Z"
    }
   },
   "outputs": [
    {
     "data": {
      "text/plain": [
       "'  FORD TORINO '"
      ]
     },
     "execution_count": 26,
     "metadata": {},
     "output_type": "execute_result"
    }
   ],
   "source": [
    "#run the cell!\n",
    "cars.loc[4, \"name\"]"
   ]
  },
  {
   "cell_type": "markdown",
   "metadata": {},
   "source": [
    "It seems like some names are uppercase, while others are lowercase. And there are some excess whitespaces in the strings."
   ]
  },
  {
   "cell_type": "markdown",
   "metadata": {},
   "source": [
    "91. __Convert__ all names to __lowercase__ and __remove all whitespaces__ on the left ends and right ends! __Overwrite!__"
   ]
  },
  {
   "cell_type": "code",
   "execution_count": 29,
   "metadata": {
    "ExecuteTime": {
     "end_time": "2023-05-02T12:19:27.006072Z",
     "start_time": "2023-05-02T12:19:26.988141Z"
    }
   },
   "outputs": [],
   "source": [
    "#완전틀림\n",
    "#car name 열에서 문자 선택, 소문자화하고 문자선택 공백제거\n",
    "cars.name = cars.name.str.lower().str.strip()"
   ]
  },
  {
   "cell_type": "markdown",
   "metadata": {},
   "source": [
    "Run the next two cells and identify (erroneous) outliers in the numercial columns!"
   ]
  },
  {
   "cell_type": "code",
   "execution_count": 30,
   "metadata": {
    "ExecuteTime": {
     "end_time": "2023-05-02T12:19:29.405606Z",
     "start_time": "2023-05-02T12:19:29.320709Z"
    }
   },
   "outputs": [
    {
     "data": {
      "text/html": [
       "<div>\n",
       "<style scoped>\n",
       "    .dataframe tbody tr th:only-of-type {\n",
       "        vertical-align: middle;\n",
       "    }\n",
       "\n",
       "    .dataframe tbody tr th {\n",
       "        vertical-align: top;\n",
       "    }\n",
       "\n",
       "    .dataframe thead th {\n",
       "        text-align: right;\n",
       "    }\n",
       "</style>\n",
       "<table border=\"1\" class=\"dataframe\">\n",
       "  <thead>\n",
       "    <tr style=\"text-align: right;\">\n",
       "      <th></th>\n",
       "      <th>mpg</th>\n",
       "      <th>cylinders</th>\n",
       "      <th>displacement</th>\n",
       "      <th>horsepower</th>\n",
       "      <th>weight</th>\n",
       "      <th>acceleration</th>\n",
       "      <th>model year</th>\n",
       "    </tr>\n",
       "  </thead>\n",
       "  <tbody>\n",
       "    <tr>\n",
       "      <th>count</th>\n",
       "      <td>329.000000</td>\n",
       "      <td>329.000000</td>\n",
       "      <td>329.000000</td>\n",
       "      <td>323.000000</td>\n",
       "      <td>329.000000</td>\n",
       "      <td>329.000000</td>\n",
       "      <td>329.000000</td>\n",
       "    </tr>\n",
       "    <tr>\n",
       "      <th>mean</th>\n",
       "      <td>21.655199</td>\n",
       "      <td>5.802432</td>\n",
       "      <td>217.004559</td>\n",
       "      <td>111.185759</td>\n",
       "      <td>3229.082067</td>\n",
       "      <td>15.400000</td>\n",
       "      <td>104.495441</td>\n",
       "    </tr>\n",
       "    <tr>\n",
       "      <th>std</th>\n",
       "      <td>7.294651</td>\n",
       "      <td>1.719825</td>\n",
       "      <td>104.719009</td>\n",
       "      <td>39.846088</td>\n",
       "      <td>1376.306985</td>\n",
       "      <td>2.922756</td>\n",
       "      <td>232.498690</td>\n",
       "    </tr>\n",
       "    <tr>\n",
       "      <th>min</th>\n",
       "      <td>0.060606</td>\n",
       "      <td>4.000000</td>\n",
       "      <td>68.000000</td>\n",
       "      <td>46.000000</td>\n",
       "      <td>1800.000000</td>\n",
       "      <td>8.000000</td>\n",
       "      <td>70.000000</td>\n",
       "    </tr>\n",
       "    <tr>\n",
       "      <th>25%</th>\n",
       "      <td>16.000000</td>\n",
       "      <td>4.000000</td>\n",
       "      <td>121.000000</td>\n",
       "      <td>83.500000</td>\n",
       "      <td>2464.000000</td>\n",
       "      <td>13.500000</td>\n",
       "      <td>73.000000</td>\n",
       "    </tr>\n",
       "    <tr>\n",
       "      <th>50%</th>\n",
       "      <td>20.200000</td>\n",
       "      <td>6.000000</td>\n",
       "      <td>200.000000</td>\n",
       "      <td>100.000000</td>\n",
       "      <td>3102.000000</td>\n",
       "      <td>15.400000</td>\n",
       "      <td>76.000000</td>\n",
       "    </tr>\n",
       "    <tr>\n",
       "      <th>75%</th>\n",
       "      <td>26.000000</td>\n",
       "      <td>8.000000</td>\n",
       "      <td>305.000000</td>\n",
       "      <td>141.000000</td>\n",
       "      <td>3821.000000</td>\n",
       "      <td>17.000000</td>\n",
       "      <td>79.000000</td>\n",
       "    </tr>\n",
       "    <tr>\n",
       "      <th>max</th>\n",
       "      <td>44.300000</td>\n",
       "      <td>8.000000</td>\n",
       "      <td>455.000000</td>\n",
       "      <td>230.000000</td>\n",
       "      <td>23000.000000</td>\n",
       "      <td>24.800000</td>\n",
       "      <td>1973.000000</td>\n",
       "    </tr>\n",
       "  </tbody>\n",
       "</table>\n",
       "</div>"
      ],
      "text/plain": [
       "              mpg   cylinders  displacement  horsepower        weight  \\\n",
       "count  329.000000  329.000000    329.000000  323.000000    329.000000   \n",
       "mean    21.655199    5.802432    217.004559  111.185759   3229.082067   \n",
       "std      7.294651    1.719825    104.719009   39.846088   1376.306985   \n",
       "min      0.060606    4.000000     68.000000   46.000000   1800.000000   \n",
       "25%     16.000000    4.000000    121.000000   83.500000   2464.000000   \n",
       "50%     20.200000    6.000000    200.000000  100.000000   3102.000000   \n",
       "75%     26.000000    8.000000    305.000000  141.000000   3821.000000   \n",
       "max     44.300000    8.000000    455.000000  230.000000  23000.000000   \n",
       "\n",
       "       acceleration   model year  \n",
       "count    329.000000   329.000000  \n",
       "mean      15.400000   104.495441  \n",
       "std        2.922756   232.498690  \n",
       "min        8.000000    70.000000  \n",
       "25%       13.500000    73.000000  \n",
       "50%       15.400000    76.000000  \n",
       "75%       17.000000    79.000000  \n",
       "max       24.800000  1973.000000  "
      ]
     },
     "execution_count": 30,
     "metadata": {},
     "output_type": "execute_result"
    }
   ],
   "source": [
    "# run the cell!\n",
    "cars.describe()"
   ]
  },
  {
   "cell_type": "code",
   "execution_count": 31,
   "metadata": {
    "ExecuteTime": {
     "end_time": "2023-05-02T12:20:05.513398Z",
     "start_time": "2023-05-02T12:20:01.724093Z"
    }
   },
   "outputs": [
    {
     "data": {
      "image/png": "[encoded data removed]",
      "text/plain": [
       "<Figure size 1080x864 with 7 Axes>"
      ]
     },
     "metadata": {
      "needs_background": "light"
     },
     "output_type": "display_data"
    }
   ],
   "source": [
    "# run the cell!\n",
    "cars.plot(subplots = True, figsize = (15,12))\n",
    "plt.show()"
   ]
  },
  {
   "cell_type": "markdown",
   "metadata": {},
   "source": [
    "92. Inspect the column __model_year__ in more detail by analyzing the __frequency/counts__ of unique values! Anything __strange__?"
   ]
  },
  {
   "cell_type": "code",
   "execution_count": 47,
   "metadata": {
    "ExecuteTime": {
     "end_time": "2023-05-02T12:24:43.723100Z",
     "start_time": "2023-05-02T12:24:43.713947Z"
    }
   },
   "outputs": [
    {
     "data": {
      "text/plain": [
       "array([  70,   71,   72,   73, 1973,   74,   75,   76,   77,   78,   79,\n",
       "         80,   81,   82], dtype=int64)"
      ]
     },
     "execution_count": 47,
     "metadata": {},
     "output_type": "execute_result"
    }
   ],
   "source": [
    "cars.model_year.unique()\n",
    "#1973만 잘못표기"
   ]
  },
  {
   "cell_type": "markdown",
   "metadata": {},
   "source": [
    "There are 5 entries with ... 1973 instead of 73. "
   ]
  },
  {
   "cell_type": "markdown",
   "metadata": {},
   "source": [
    "93. __Replace__ the value __1973__! __Save__ the change!"
   ]
  },
  {
   "cell_type": "code",
   "execution_count": 48,
   "metadata": {
    "ExecuteTime": {
     "end_time": "2023-05-02T12:25:25.418727Z",
     "start_time": "2023-05-02T12:25:25.404950Z"
    }
   },
   "outputs": [],
   "source": [
    "cars.model_year.replace(1973, 73, inplace=True)"
   ]
  },
  {
   "cell_type": "markdown",
   "metadata": {},
   "source": [
    "94. Inspect the column __weight__ by __sorting__ the values from __high to low__. Can you see the __extreme value__?"
   ]
  },
  {
   "cell_type": "code",
   "execution_count": 70,
   "metadata": {
    "ExecuteTime": {
     "end_time": "2023-05-03T10:39:55.934665Z",
     "start_time": "2023-05-03T10:39:55.890446Z"
    },
    "scrolled": true
   },
   "outputs": [
    {
     "data": {
      "text/html": [
       "<div>\n",
       "<style scoped>\n",
       "    .dataframe tbody tr th:only-of-type {\n",
       "        vertical-align: middle;\n",
       "    }\n",
       "\n",
       "    .dataframe tbody tr th {\n",
       "        vertical-align: top;\n",
       "    }\n",
       "\n",
       "    .dataframe thead th {\n",
       "        text-align: right;\n",
       "    }\n",
       "</style>\n",
       "<table border=\"1\" class=\"dataframe\">\n",
       "  <thead>\n",
       "    <tr style=\"text-align: right;\">\n",
       "      <th></th>\n",
       "      <th>mpg</th>\n",
       "      <th>cylinders</th>\n",
       "      <th>displacement</th>\n",
       "      <th>horsepower</th>\n",
       "      <th>weight</th>\n",
       "      <th>acceleration</th>\n",
       "      <th>model_year</th>\n",
       "      <th>origin</th>\n",
       "      <th>name</th>\n",
       "    </tr>\n",
       "  </thead>\n",
       "  <tbody>\n",
       "    <tr>\n",
       "      <th>40</th>\n",
       "      <td>13.0</td>\n",
       "      <td>8.0</td>\n",
       "      <td>400.0</td>\n",
       "      <td>175.0</td>\n",
       "      <td>5140.0</td>\n",
       "      <td>12.0</td>\n",
       "      <td>71.0</td>\n",
       "      <td>usa</td>\n",
       "      <td>pontiac safari (sw)</td>\n",
       "    </tr>\n",
       "    <tr>\n",
       "      <th>92</th>\n",
       "      <td>11.0</td>\n",
       "      <td>8.0</td>\n",
       "      <td>400.0</td>\n",
       "      <td>150.0</td>\n",
       "      <td>4997.0</td>\n",
       "      <td>14.0</td>\n",
       "      <td>73.0</td>\n",
       "      <td>usa</td>\n",
       "      <td>chevrolet impala</td>\n",
       "    </tr>\n",
       "    <tr>\n",
       "      <th>38</th>\n",
       "      <td>12.0</td>\n",
       "      <td>8.0</td>\n",
       "      <td>383.0</td>\n",
       "      <td>180.0</td>\n",
       "      <td>4955.0</td>\n",
       "      <td>11.5</td>\n",
       "      <td>71.0</td>\n",
       "      <td>usa</td>\n",
       "      <td>dodge monaco (sw)</td>\n",
       "    </tr>\n",
       "    <tr>\n",
       "      <th>79</th>\n",
       "      <td>12.0</td>\n",
       "      <td>8.0</td>\n",
       "      <td>429.0</td>\n",
       "      <td>198.0</td>\n",
       "      <td>4952.0</td>\n",
       "      <td>11.5</td>\n",
       "      <td>73.0</td>\n",
       "      <td>usa</td>\n",
       "      <td>mercury marquis brougham</td>\n",
       "    </tr>\n",
       "    <tr>\n",
       "      <th>324</th>\n",
       "      <td>12.0</td>\n",
       "      <td>8.0</td>\n",
       "      <td>429.0</td>\n",
       "      <td>198.0</td>\n",
       "      <td>4952.0</td>\n",
       "      <td>11.5</td>\n",
       "      <td>73.0</td>\n",
       "      <td>usa</td>\n",
       "      <td>mercury marquis brougham</td>\n",
       "    </tr>\n",
       "    <tr>\n",
       "      <th>...</th>\n",
       "      <td>...</td>\n",
       "      <td>...</td>\n",
       "      <td>...</td>\n",
       "      <td>...</td>\n",
       "      <td>...</td>\n",
       "      <td>...</td>\n",
       "      <td>...</td>\n",
       "      <td>...</td>\n",
       "      <td>...</td>\n",
       "    </tr>\n",
       "    <tr>\n",
       "      <th>276</th>\n",
       "      <td>40.9</td>\n",
       "      <td>4.0</td>\n",
       "      <td>85.0</td>\n",
       "      <td>NaN</td>\n",
       "      <td>1835.0</td>\n",
       "      <td>17.3</td>\n",
       "      <td>80.0</td>\n",
       "      <td>europe</td>\n",
       "      <td>renault lecar deluxe</td>\n",
       "    </tr>\n",
       "    <tr>\n",
       "      <th>49</th>\n",
       "      <td>27.0</td>\n",
       "      <td>4.0</td>\n",
       "      <td>97.0</td>\n",
       "      <td>60.0</td>\n",
       "      <td>1834.0</td>\n",
       "      <td>19.0</td>\n",
       "      <td>71.0</td>\n",
       "      <td>europe</td>\n",
       "      <td>vw model 111</td>\n",
       "    </tr>\n",
       "    <tr>\n",
       "      <th>188</th>\n",
       "      <td>36.0</td>\n",
       "      <td>4.0</td>\n",
       "      <td>79.0</td>\n",
       "      <td>58.0</td>\n",
       "      <td>1825.0</td>\n",
       "      <td>18.6</td>\n",
       "      <td>77.0</td>\n",
       "      <td>europe</td>\n",
       "      <td>renault 5 gtl</td>\n",
       "    </tr>\n",
       "    <tr>\n",
       "      <th>177</th>\n",
       "      <td>29.5</td>\n",
       "      <td>4.0</td>\n",
       "      <td>97.0</td>\n",
       "      <td>71.0</td>\n",
       "      <td>1825.0</td>\n",
       "      <td>12.2</td>\n",
       "      <td>76.0</td>\n",
       "      <td>europe</td>\n",
       "      <td>vw rabbit</td>\n",
       "    </tr>\n",
       "    <tr>\n",
       "      <th>210</th>\n",
       "      <td>36.1</td>\n",
       "      <td>4.0</td>\n",
       "      <td>98.0</td>\n",
       "      <td>66.0</td>\n",
       "      <td>1800.0</td>\n",
       "      <td>14.4</td>\n",
       "      <td>78.0</td>\n",
       "      <td>usa</td>\n",
       "      <td>ford fiesta</td>\n",
       "    </tr>\n",
       "  </tbody>\n",
       "</table>\n",
       "<p>330 rows × 9 columns</p>\n",
       "</div>"
      ],
      "text/plain": [
       "      mpg  cylinders  displacement  horsepower  weight  acceleration  \\\n",
       "40   13.0        8.0         400.0       175.0  5140.0          12.0   \n",
       "92   11.0        8.0         400.0       150.0  4997.0          14.0   \n",
       "38   12.0        8.0         383.0       180.0  4955.0          11.5   \n",
       "79   12.0        8.0         429.0       198.0  4952.0          11.5   \n",
       "324  12.0        8.0         429.0       198.0  4952.0          11.5   \n",
       "..    ...        ...           ...         ...     ...           ...   \n",
       "276  40.9        4.0          85.0         NaN  1835.0          17.3   \n",
       "49   27.0        4.0          97.0        60.0  1834.0          19.0   \n",
       "188  36.0        4.0          79.0        58.0  1825.0          18.6   \n",
       "177  29.5        4.0          97.0        71.0  1825.0          12.2   \n",
       "210  36.1        4.0          98.0        66.0  1800.0          14.4   \n",
       "\n",
       "     model_year  origin                      name  \n",
       "40         71.0     usa       pontiac safari (sw)  \n",
       "92         73.0     usa          chevrolet impala  \n",
       "38         71.0     usa         dodge monaco (sw)  \n",
       "79         73.0     usa  mercury marquis brougham  \n",
       "324        73.0     usa  mercury marquis brougham  \n",
       "..          ...     ...                       ...  \n",
       "276        80.0  europe      renault lecar deluxe  \n",
       "49         71.0  europe              vw model 111  \n",
       "188        77.0  europe             renault 5 gtl  \n",
       "177        76.0  europe                 vw rabbit  \n",
       "210        78.0     usa               ford fiesta  \n",
       "\n",
       "[330 rows x 9 columns]"
      ]
     },
     "execution_count": 70,
     "metadata": {},
     "output_type": "execute_result"
    }
   ],
   "source": [
    "cars.sort_values('weight', ascending=False)\n",
    "#이상치존재"
   ]
  },
  {
   "cell_type": "markdown",
   "metadata": {},
   "source": [
    "The by far highest value is ... 23000 lbs. Must be an error!"
   ]
  },
  {
   "cell_type": "markdown",
   "metadata": {},
   "source": [
    "95. __Select__ the complete __row__ of the outlier with the method __idxmax()__!"
   ]
  },
  {
   "cell_type": "code",
   "execution_count": 76,
   "metadata": {
    "ExecuteTime": {
     "end_time": "2023-05-03T10:40:53.942836Z",
     "start_time": "2023-05-03T10:40:53.921489Z"
    }
   },
   "outputs": [
    {
     "data": {
      "text/plain": [
       "'pontiac safari (sw)'"
      ]
     },
     "execution_count": 76,
     "metadata": {},
     "output_type": "execute_result"
    }
   ],
   "source": [
    "cars.name[cars.weight.idxmax()]"
   ]
  },
  {
   "cell_type": "markdown",
   "metadata": {},
   "source": [
    "It´s an opel manta ... could be a \"fat finger\" problem, weight could be 2300 instead of 23000.\n"
   ]
  },
  {
   "cell_type": "markdown",
   "metadata": {},
   "source": [
    "96. __Overwrite__ the erroneous outlier! __Fill in the gaps__!"
   ]
  },
  {
   "cell_type": "code",
   "execution_count": 69,
   "metadata": {
    "ExecuteTime": {
     "end_time": "2023-05-03T10:39:53.599940Z",
     "start_time": "2023-05-03T10:39:53.579032Z"
    }
   },
   "outputs": [],
   "source": [
    "cars.loc[126, 'weight'] = 2300"
   ]
  },
  {
   "cell_type": "code",
   "execution_count": 65,
   "metadata": {
    "ExecuteTime": {
     "end_time": "2023-05-03T10:39:10.626878Z",
     "start_time": "2023-05-03T10:39:10.599980Z"
    }
   },
   "outputs": [
    {
     "data": {
      "text/plain": [
       "0             3504.0\n",
       "1             3693.0\n",
       "2             3436.0\n",
       "3             3433.0\n",
       "4             3449.0\n",
       "               ...  \n",
       "325           2202.0\n",
       "326           3329.0\n",
       "327           4215.0\n",
       "328           2945.0\n",
       "opel manta    2300.0\n",
       "Name: weight, Length: 330, dtype: float64"
      ]
     },
     "execution_count": 65,
     "metadata": {},
     "output_type": "execute_result"
    }
   ],
   "source": [
    "cars.weight"
   ]
  },
  {
   "cell_type": "markdown",
   "metadata": {},
   "source": [
    "Inspect the column __mpg__! Any strange __outlier__?"
   ]
  },
  {
   "cell_type": "code",
   "execution_count": 64,
   "metadata": {
    "ExecuteTime": {
     "end_time": "2023-05-03T10:38:29.727675Z",
     "start_time": "2023-05-03T10:38:29.715183Z"
    },
    "scrolled": true
   },
   "outputs": [
    {
     "data": {
      "text/plain": [
       "244            0.060606\n",
       "26             9.000000\n",
       "24            10.000000\n",
       "23            10.000000\n",
       "92            11.000000\n",
       "                ...    \n",
       "209           43.100000\n",
       "273           43.400000\n",
       "315           44.000000\n",
       "272           44.300000\n",
       "opel manta          NaN\n",
       "Name: mpg, Length: 330, dtype: float64"
      ]
     },
     "execution_count": 64,
     "metadata": {},
     "output_type": "execute_result"
    }
   ],
   "source": [
    "# run the cell!\n",
    "cars.mpg.sort_values()"
   ]
  },
  {
   "cell_type": "markdown",
   "metadata": {},
   "source": [
    "An mpg of ... 0.060606 cannot be correct..."
   ]
  },
  {
   "cell_type": "markdown",
   "metadata": {},
   "source": [
    "97. __Select__ the complete __row__ of the outlier with the method __idxmin()__!"
   ]
  },
  {
   "cell_type": "code",
   "execution_count": 78,
   "metadata": {
    "ExecuteTime": {
     "end_time": "2023-05-03T10:41:58.948698Z",
     "start_time": "2023-05-03T10:41:58.930228Z"
    }
   },
   "outputs": [
    {
     "data": {
      "text/plain": [
       "244"
      ]
     },
     "execution_count": 78,
     "metadata": {},
     "output_type": "execute_result"
    }
   ],
   "source": [
    "cars.index[cars.mpg.idxmin()]"
   ]
  },
  {
   "cell_type": "markdown",
   "metadata": {},
   "source": [
    "98. After some research we have found out that this extreme value is in __\"gallons per mile\"__ units instead of \"miles per gallon\". <br>\n",
    "__Convert__ to __\"miles per gallon\"__ units! __Fill in the gaps__!"
   ]
  },
  {
   "cell_type": "code",
   "execution_count": 81,
   "metadata": {
    "ExecuteTime": {
     "end_time": "2023-05-03T10:47:47.075063Z",
     "start_time": "2023-05-03T10:47:47.064726Z"
    }
   },
   "outputs": [],
   "source": [
    "cars.loc[cars.mpg.idxmin(), 'mpg'] = 1/cars.loc[cars.mpg.idxmin(), 'mpg']"
   ]
  },
  {
   "cell_type": "markdown",
   "metadata": {},
   "source": [
    "99. Next, select all __rows__ with at least one __missing__/na value! __Fill in the gaps__!"
   ]
  },
  {
   "cell_type": "code",
   "execution_count": 91,
   "metadata": {
    "ExecuteTime": {
     "end_time": "2023-05-03T10:50:38.449827Z",
     "start_time": "2023-05-03T10:50:38.393012Z"
    },
    "scrolled": true
   },
   "outputs": [
    {
     "data": {
      "text/html": [
       "<div>\n",
       "<style scoped>\n",
       "    .dataframe tbody tr th:only-of-type {\n",
       "        vertical-align: middle;\n",
       "    }\n",
       "\n",
       "    .dataframe tbody tr th {\n",
       "        vertical-align: top;\n",
       "    }\n",
       "\n",
       "    .dataframe thead th {\n",
       "        text-align: right;\n",
       "    }\n",
       "</style>\n",
       "<table border=\"1\" class=\"dataframe\">\n",
       "  <thead>\n",
       "    <tr style=\"text-align: right;\">\n",
       "      <th></th>\n",
       "      <th>mpg</th>\n",
       "      <th>cylinders</th>\n",
       "      <th>displacement</th>\n",
       "      <th>horsepower</th>\n",
       "      <th>weight</th>\n",
       "      <th>acceleration</th>\n",
       "      <th>model_year</th>\n",
       "      <th>origin</th>\n",
       "      <th>name</th>\n",
       "    </tr>\n",
       "  </thead>\n",
       "  <tbody>\n",
       "    <tr>\n",
       "      <th>28</th>\n",
       "      <td>25.0</td>\n",
       "      <td>4.0</td>\n",
       "      <td>98.0</td>\n",
       "      <td>NaN</td>\n",
       "      <td>2046.0</td>\n",
       "      <td>19.0</td>\n",
       "      <td>71.0</td>\n",
       "      <td>usa</td>\n",
       "      <td>ford pinto</td>\n",
       "    </tr>\n",
       "    <tr>\n",
       "      <th>111</th>\n",
       "      <td>21.0</td>\n",
       "      <td>6.0</td>\n",
       "      <td>200.0</td>\n",
       "      <td>NaN</td>\n",
       "      <td>2875.0</td>\n",
       "      <td>17.0</td>\n",
       "      <td>74.0</td>\n",
       "      <td>usa</td>\n",
       "      <td>ford maverick</td>\n",
       "    </tr>\n",
       "    <tr>\n",
       "      <th>276</th>\n",
       "      <td>40.9</td>\n",
       "      <td>4.0</td>\n",
       "      <td>85.0</td>\n",
       "      <td>NaN</td>\n",
       "      <td>1835.0</td>\n",
       "      <td>17.3</td>\n",
       "      <td>80.0</td>\n",
       "      <td>europe</td>\n",
       "      <td>renault lecar deluxe</td>\n",
       "    </tr>\n",
       "    <tr>\n",
       "      <th>279</th>\n",
       "      <td>23.6</td>\n",
       "      <td>4.0</td>\n",
       "      <td>140.0</td>\n",
       "      <td>NaN</td>\n",
       "      <td>2905.0</td>\n",
       "      <td>14.3</td>\n",
       "      <td>80.0</td>\n",
       "      <td>usa</td>\n",
       "      <td>ford mustang cobra</td>\n",
       "    </tr>\n",
       "    <tr>\n",
       "      <th>290</th>\n",
       "      <td>34.5</td>\n",
       "      <td>4.0</td>\n",
       "      <td>100.0</td>\n",
       "      <td>NaN</td>\n",
       "      <td>2320.0</td>\n",
       "      <td>15.8</td>\n",
       "      <td>81.0</td>\n",
       "      <td>europe</td>\n",
       "      <td>renault 18i</td>\n",
       "    </tr>\n",
       "    <tr>\n",
       "      <th>304</th>\n",
       "      <td>23.0</td>\n",
       "      <td>4.0</td>\n",
       "      <td>151.0</td>\n",
       "      <td>NaN</td>\n",
       "      <td>3035.0</td>\n",
       "      <td>20.5</td>\n",
       "      <td>82.0</td>\n",
       "      <td>usa</td>\n",
       "      <td>amc concord dl</td>\n",
       "    </tr>\n",
       "    <tr>\n",
       "      <th>opel manta</th>\n",
       "      <td>NaN</td>\n",
       "      <td>NaN</td>\n",
       "      <td>NaN</td>\n",
       "      <td>NaN</td>\n",
       "      <td>2300.0</td>\n",
       "      <td>NaN</td>\n",
       "      <td>NaN</td>\n",
       "      <td>NaN</td>\n",
       "      <td>NaN</td>\n",
       "    </tr>\n",
       "  </tbody>\n",
       "</table>\n",
       "</div>"
      ],
      "text/plain": [
       "             mpg  cylinders  displacement  horsepower  weight  acceleration  \\\n",
       "28          25.0        4.0          98.0         NaN  2046.0          19.0   \n",
       "111         21.0        6.0         200.0         NaN  2875.0          17.0   \n",
       "276         40.9        4.0          85.0         NaN  1835.0          17.3   \n",
       "279         23.6        4.0         140.0         NaN  2905.0          14.3   \n",
       "290         34.5        4.0         100.0         NaN  2320.0          15.8   \n",
       "304         23.0        4.0         151.0         NaN  3035.0          20.5   \n",
       "opel manta   NaN        NaN           NaN         NaN  2300.0           NaN   \n",
       "\n",
       "            model_year  origin                  name  \n",
       "28                71.0     usa            ford pinto  \n",
       "111               74.0     usa         ford maverick  \n",
       "276               80.0  europe  renault lecar deluxe  \n",
       "279               80.0     usa    ford mustang cobra  \n",
       "290               81.0  europe           renault 18i  \n",
       "304               82.0     usa        amc concord dl  \n",
       "opel manta         NaN     NaN                   NaN  "
      ]
     },
     "execution_count": 91,
     "metadata": {},
     "output_type": "execute_result"
    }
   ],
   "source": [
    "cars.loc[cars.isna().any(axis=1)] #1=rows"
   ]
  },
  {
   "cell_type": "markdown",
   "metadata": {},
   "source": [
    "There are 6 cars, where the horsepower is unknown."
   ]
  },
  {
   "cell_type": "markdown",
   "metadata": {},
   "source": [
    "100. As horsepower is an important feature in the cars dataset, we decide to remove all 6 rows. __Remove__ and __save__ the change!"
   ]
  },
  {
   "cell_type": "code",
   "execution_count": 94,
   "metadata": {
    "ExecuteTime": {
     "end_time": "2023-05-03T10:53:58.295003Z",
     "start_time": "2023-05-03T10:53:58.286026Z"
    }
   },
   "outputs": [],
   "source": [
    "cars.dropna(inplace=True)"
   ]
  },
  {
   "cell_type": "markdown",
   "metadata": {},
   "source": [
    "Now let´s find __duplicates__. First, we need to understand __which columns__ we have to take into consideration to identify duplicates."
   ]
  },
  {
   "cell_type": "markdown",
   "metadata": {},
   "source": [
    "101. The first __naive assumption__ is that two cars cannot have the __same name__. Let´s count the number of __name-duplicates__. __Fill in the gaps__!"
   ]
  },
  {
   "cell_type": "code",
   "execution_count": 96,
   "metadata": {
    "ExecuteTime": {
     "end_time": "2023-05-03T10:55:26.412061Z",
     "start_time": "2023-05-03T10:55:26.383087Z"
    }
   },
   "outputs": [
    {
     "data": {
      "text/plain": [
       "86"
      ]
     },
     "execution_count": 96,
     "metadata": {},
     "output_type": "execute_result"
    }
   ],
   "source": [
    "cars.duplicated(subset= ['name']).sum() #서브셋 열에서 중복 발견"
   ]
  },
  {
   "cell_type": "markdown",
   "metadata": {},
   "source": [
    "There are ... 86 potential duplicates to remove."
   ]
  },
  {
   "cell_type": "markdown",
   "metadata": {},
   "source": [
    "102. Let´s inspect the __duplicated pairs__ by selecting __all instances__ of a name duplicate! __Fill in the gaps__! <br>\n",
    "Should the __name__ be the __only criteria__ to identify duplicates?"
   ]
  },
  {
   "cell_type": "code",
   "execution_count": 97,
   "metadata": {
    "ExecuteTime": {
     "end_time": "2023-05-03T10:56:45.411013Z",
     "start_time": "2023-05-03T10:56:45.351408Z"
    },
    "scrolled": true
   },
   "outputs": [
    {
     "data": {
      "text/html": [
       "<div>\n",
       "<style scoped>\n",
       "    .dataframe tbody tr th:only-of-type {\n",
       "        vertical-align: middle;\n",
       "    }\n",
       "\n",
       "    .dataframe tbody tr th {\n",
       "        vertical-align: top;\n",
       "    }\n",
       "\n",
       "    .dataframe thead th {\n",
       "        text-align: right;\n",
       "    }\n",
       "</style>\n",
       "<table border=\"1\" class=\"dataframe\">\n",
       "  <thead>\n",
       "    <tr style=\"text-align: right;\">\n",
       "      <th></th>\n",
       "      <th>mpg</th>\n",
       "      <th>cylinders</th>\n",
       "      <th>displacement</th>\n",
       "      <th>horsepower</th>\n",
       "      <th>weight</th>\n",
       "      <th>acceleration</th>\n",
       "      <th>model_year</th>\n",
       "      <th>origin</th>\n",
       "      <th>name</th>\n",
       "    </tr>\n",
       "  </thead>\n",
       "  <tbody>\n",
       "    <tr>\n",
       "      <th>323</th>\n",
       "      <td>24.3</td>\n",
       "      <td>4.0</td>\n",
       "      <td>151.0</td>\n",
       "      <td>90.0</td>\n",
       "      <td>3003.0</td>\n",
       "      <td>20.1</td>\n",
       "      <td>80.0</td>\n",
       "      <td>usa</td>\n",
       "      <td>amc concord</td>\n",
       "    </tr>\n",
       "    <tr>\n",
       "      <th>268</th>\n",
       "      <td>24.3</td>\n",
       "      <td>4.0</td>\n",
       "      <td>151.0</td>\n",
       "      <td>90.0</td>\n",
       "      <td>3003.0</td>\n",
       "      <td>20.1</td>\n",
       "      <td>80.0</td>\n",
       "      <td>usa</td>\n",
       "      <td>amc concord</td>\n",
       "    </tr>\n",
       "    <tr>\n",
       "      <th>219</th>\n",
       "      <td>19.4</td>\n",
       "      <td>6.0</td>\n",
       "      <td>232.0</td>\n",
       "      <td>90.0</td>\n",
       "      <td>3210.0</td>\n",
       "      <td>17.2</td>\n",
       "      <td>78.0</td>\n",
       "      <td>usa</td>\n",
       "      <td>amc concord</td>\n",
       "    </tr>\n",
       "    <tr>\n",
       "      <th>147</th>\n",
       "      <td>20.0</td>\n",
       "      <td>6.0</td>\n",
       "      <td>232.0</td>\n",
       "      <td>100.0</td>\n",
       "      <td>2914.0</td>\n",
       "      <td>16.0</td>\n",
       "      <td>75.0</td>\n",
       "      <td>usa</td>\n",
       "      <td>amc gremlin</td>\n",
       "    </tr>\n",
       "    <tr>\n",
       "      <th>96</th>\n",
       "      <td>18.0</td>\n",
       "      <td>6.0</td>\n",
       "      <td>232.0</td>\n",
       "      <td>100.0</td>\n",
       "      <td>2789.0</td>\n",
       "      <td>15.0</td>\n",
       "      <td>73.0</td>\n",
       "      <td>usa</td>\n",
       "      <td>amc gremlin</td>\n",
       "    </tr>\n",
       "    <tr>\n",
       "      <th>...</th>\n",
       "      <td>...</td>\n",
       "      <td>...</td>\n",
       "      <td>...</td>\n",
       "      <td>...</td>\n",
       "      <td>...</td>\n",
       "      <td>...</td>\n",
       "      <td>...</td>\n",
       "      <td>...</td>\n",
       "      <td>...</td>\n",
       "    </tr>\n",
       "    <tr>\n",
       "      <th>177</th>\n",
       "      <td>29.5</td>\n",
       "      <td>4.0</td>\n",
       "      <td>97.0</td>\n",
       "      <td>71.0</td>\n",
       "      <td>1825.0</td>\n",
       "      <td>12.2</td>\n",
       "      <td>76.0</td>\n",
       "      <td>europe</td>\n",
       "      <td>vw rabbit</td>\n",
       "    </tr>\n",
       "    <tr>\n",
       "      <th>151</th>\n",
       "      <td>29.0</td>\n",
       "      <td>4.0</td>\n",
       "      <td>90.0</td>\n",
       "      <td>70.0</td>\n",
       "      <td>1937.0</td>\n",
       "      <td>14.0</td>\n",
       "      <td>75.0</td>\n",
       "      <td>europe</td>\n",
       "      <td>vw rabbit</td>\n",
       "    </tr>\n",
       "    <tr>\n",
       "      <th>277</th>\n",
       "      <td>29.8</td>\n",
       "      <td>4.0</td>\n",
       "      <td>89.0</td>\n",
       "      <td>62.0</td>\n",
       "      <td>1845.0</td>\n",
       "      <td>15.3</td>\n",
       "      <td>80.0</td>\n",
       "      <td>europe</td>\n",
       "      <td>vw rabbit</td>\n",
       "    </tr>\n",
       "    <tr>\n",
       "      <th>250</th>\n",
       "      <td>31.9</td>\n",
       "      <td>4.0</td>\n",
       "      <td>89.0</td>\n",
       "      <td>71.0</td>\n",
       "      <td>1925.0</td>\n",
       "      <td>14.0</td>\n",
       "      <td>79.0</td>\n",
       "      <td>europe</td>\n",
       "      <td>vw rabbit custom</td>\n",
       "    </tr>\n",
       "    <tr>\n",
       "      <th>202</th>\n",
       "      <td>29.0</td>\n",
       "      <td>4.0</td>\n",
       "      <td>97.0</td>\n",
       "      <td>78.0</td>\n",
       "      <td>1940.0</td>\n",
       "      <td>14.5</td>\n",
       "      <td>77.0</td>\n",
       "      <td>europe</td>\n",
       "      <td>vw rabbit custom</td>\n",
       "    </tr>\n",
       "  </tbody>\n",
       "</table>\n",
       "<p>135 rows × 9 columns</p>\n",
       "</div>"
      ],
      "text/plain": [
       "      mpg  cylinders  displacement  horsepower  weight  acceleration  \\\n",
       "323  24.3        4.0         151.0        90.0  3003.0          20.1   \n",
       "268  24.3        4.0         151.0        90.0  3003.0          20.1   \n",
       "219  19.4        6.0         232.0        90.0  3210.0          17.2   \n",
       "147  20.0        6.0         232.0       100.0  2914.0          16.0   \n",
       "96   18.0        6.0         232.0       100.0  2789.0          15.0   \n",
       "..    ...        ...           ...         ...     ...           ...   \n",
       "177  29.5        4.0          97.0        71.0  1825.0          12.2   \n",
       "151  29.0        4.0          90.0        70.0  1937.0          14.0   \n",
       "277  29.8        4.0          89.0        62.0  1845.0          15.3   \n",
       "250  31.9        4.0          89.0        71.0  1925.0          14.0   \n",
       "202  29.0        4.0          97.0        78.0  1940.0          14.5   \n",
       "\n",
       "     model_year  origin              name  \n",
       "323        80.0     usa       amc concord  \n",
       "268        80.0     usa       amc concord  \n",
       "219        78.0     usa       amc concord  \n",
       "147        75.0     usa       amc gremlin  \n",
       "96         73.0     usa       amc gremlin  \n",
       "..          ...     ...               ...  \n",
       "177        76.0  europe         vw rabbit  \n",
       "151        75.0  europe         vw rabbit  \n",
       "277        80.0  europe         vw rabbit  \n",
       "250        79.0  europe  vw rabbit custom  \n",
       "202        77.0  europe  vw rabbit custom  \n",
       "\n",
       "[135 rows x 9 columns]"
      ]
     },
     "execution_count": 97,
     "metadata": {},
     "output_type": "execute_result"
    }
   ],
   "source": [
    "cars.loc[cars.duplicated(subset = ['name'], keep = False)].sort_values(\"name\")"
   ]
  },
  {
   "cell_type": "markdown",
   "metadata": {},
   "source": [
    "No! Cars can have several vintages/model_year and several variants with different technical specifications (e.g. weight, horsepower)  "
   ]
  },
  {
   "cell_type": "markdown",
   "metadata": {},
   "source": [
    "103. To be on the safe side, let´s include __all columns__ to identify duplicates. __Count__ the number of duplicates! __Fill in the gaps__!"
   ]
  },
  {
   "cell_type": "code",
   "execution_count": 103,
   "metadata": {
    "ExecuteTime": {
     "end_time": "2023-05-03T10:58:34.104409Z",
     "start_time": "2023-05-03T10:58:34.084997Z"
    }
   },
   "outputs": [
    {
     "data": {
      "text/plain": [
       "10"
      ]
     },
     "execution_count": 103,
     "metadata": {},
     "output_type": "execute_result"
    }
   ],
   "source": [
    "cars.duplicated().sum()"
   ]
  },
  {
   "cell_type": "markdown",
   "metadata": {},
   "source": [
    "There are ... 10 potential duplicates."
   ]
  },
  {
   "cell_type": "markdown",
   "metadata": {},
   "source": [
    "104. Let´s inspect the __duplicated pairs__ by selecting __all instances__ of a duplicate! __Fill in the gaps__!"
   ]
  },
  {
   "cell_type": "code",
   "execution_count": 104,
   "metadata": {
    "ExecuteTime": {
     "end_time": "2023-05-03T10:59:17.247680Z",
     "start_time": "2023-05-03T10:59:17.175695Z"
    },
    "scrolled": true
   },
   "outputs": [
    {
     "data": {
      "text/html": [
       "<div>\n",
       "<style scoped>\n",
       "    .dataframe tbody tr th:only-of-type {\n",
       "        vertical-align: middle;\n",
       "    }\n",
       "\n",
       "    .dataframe tbody tr th {\n",
       "        vertical-align: top;\n",
       "    }\n",
       "\n",
       "    .dataframe thead th {\n",
       "        text-align: right;\n",
       "    }\n",
       "</style>\n",
       "<table border=\"1\" class=\"dataframe\">\n",
       "  <thead>\n",
       "    <tr style=\"text-align: right;\">\n",
       "      <th></th>\n",
       "      <th>mpg</th>\n",
       "      <th>cylinders</th>\n",
       "      <th>displacement</th>\n",
       "      <th>horsepower</th>\n",
       "      <th>weight</th>\n",
       "      <th>acceleration</th>\n",
       "      <th>model_year</th>\n",
       "      <th>origin</th>\n",
       "      <th>name</th>\n",
       "    </tr>\n",
       "  </thead>\n",
       "  <tbody>\n",
       "    <tr>\n",
       "      <th>323</th>\n",
       "      <td>24.3</td>\n",
       "      <td>4.0</td>\n",
       "      <td>151.0</td>\n",
       "      <td>90.0</td>\n",
       "      <td>3003.0</td>\n",
       "      <td>20.1</td>\n",
       "      <td>80.0</td>\n",
       "      <td>usa</td>\n",
       "      <td>amc concord</td>\n",
       "    </tr>\n",
       "    <tr>\n",
       "      <th>268</th>\n",
       "      <td>24.3</td>\n",
       "      <td>4.0</td>\n",
       "      <td>151.0</td>\n",
       "      <td>90.0</td>\n",
       "      <td>3003.0</td>\n",
       "      <td>20.1</td>\n",
       "      <td>80.0</td>\n",
       "      <td>usa</td>\n",
       "      <td>amc concord</td>\n",
       "    </tr>\n",
       "    <tr>\n",
       "      <th>322</th>\n",
       "      <td>16.0</td>\n",
       "      <td>6.0</td>\n",
       "      <td>258.0</td>\n",
       "      <td>110.0</td>\n",
       "      <td>3632.0</td>\n",
       "      <td>18.0</td>\n",
       "      <td>74.0</td>\n",
       "      <td>usa</td>\n",
       "      <td>amc matador</td>\n",
       "    </tr>\n",
       "    <tr>\n",
       "      <th>117</th>\n",
       "      <td>16.0</td>\n",
       "      <td>6.0</td>\n",
       "      <td>258.0</td>\n",
       "      <td>110.0</td>\n",
       "      <td>3632.0</td>\n",
       "      <td>18.0</td>\n",
       "      <td>74.0</td>\n",
       "      <td>usa</td>\n",
       "      <td>amc matador</td>\n",
       "    </tr>\n",
       "    <tr>\n",
       "      <th>308</th>\n",
       "      <td>25.0</td>\n",
       "      <td>6.0</td>\n",
       "      <td>181.0</td>\n",
       "      <td>110.0</td>\n",
       "      <td>2945.0</td>\n",
       "      <td>16.4</td>\n",
       "      <td>82.0</td>\n",
       "      <td>usa</td>\n",
       "      <td>buick century limited</td>\n",
       "    </tr>\n",
       "    <tr>\n",
       "      <th>328</th>\n",
       "      <td>25.0</td>\n",
       "      <td>6.0</td>\n",
       "      <td>181.0</td>\n",
       "      <td>110.0</td>\n",
       "      <td>2945.0</td>\n",
       "      <td>16.4</td>\n",
       "      <td>82.0</td>\n",
       "      <td>usa</td>\n",
       "      <td>buick century limited</td>\n",
       "    </tr>\n",
       "    <tr>\n",
       "      <th>31</th>\n",
       "      <td>17.0</td>\n",
       "      <td>6.0</td>\n",
       "      <td>250.0</td>\n",
       "      <td>100.0</td>\n",
       "      <td>3329.0</td>\n",
       "      <td>15.5</td>\n",
       "      <td>71.0</td>\n",
       "      <td>usa</td>\n",
       "      <td>chevrolet chevelle malibu</td>\n",
       "    </tr>\n",
       "    <tr>\n",
       "      <th>326</th>\n",
       "      <td>17.0</td>\n",
       "      <td>6.0</td>\n",
       "      <td>250.0</td>\n",
       "      <td>100.0</td>\n",
       "      <td>3329.0</td>\n",
       "      <td>15.5</td>\n",
       "      <td>71.0</td>\n",
       "      <td>usa</td>\n",
       "      <td>chevrolet chevelle malibu</td>\n",
       "    </tr>\n",
       "    <tr>\n",
       "      <th>165</th>\n",
       "      <td>14.5</td>\n",
       "      <td>8.0</td>\n",
       "      <td>351.0</td>\n",
       "      <td>152.0</td>\n",
       "      <td>4215.0</td>\n",
       "      <td>12.8</td>\n",
       "      <td>76.0</td>\n",
       "      <td>usa</td>\n",
       "      <td>ford gran torino</td>\n",
       "    </tr>\n",
       "    <tr>\n",
       "      <th>327</th>\n",
       "      <td>14.5</td>\n",
       "      <td>8.0</td>\n",
       "      <td>351.0</td>\n",
       "      <td>152.0</td>\n",
       "      <td>4215.0</td>\n",
       "      <td>12.8</td>\n",
       "      <td>76.0</td>\n",
       "      <td>usa</td>\n",
       "      <td>ford gran torino</td>\n",
       "    </tr>\n",
       "    <tr>\n",
       "      <th>79</th>\n",
       "      <td>12.0</td>\n",
       "      <td>8.0</td>\n",
       "      <td>429.0</td>\n",
       "      <td>198.0</td>\n",
       "      <td>4952.0</td>\n",
       "      <td>11.5</td>\n",
       "      <td>73.0</td>\n",
       "      <td>usa</td>\n",
       "      <td>mercury marquis brougham</td>\n",
       "    </tr>\n",
       "    <tr>\n",
       "      <th>324</th>\n",
       "      <td>12.0</td>\n",
       "      <td>8.0</td>\n",
       "      <td>429.0</td>\n",
       "      <td>198.0</td>\n",
       "      <td>4952.0</td>\n",
       "      <td>11.5</td>\n",
       "      <td>73.0</td>\n",
       "      <td>usa</td>\n",
       "      <td>mercury marquis brougham</td>\n",
       "    </tr>\n",
       "    <tr>\n",
       "      <th>320</th>\n",
       "      <td>14.0</td>\n",
       "      <td>8.0</td>\n",
       "      <td>340.0</td>\n",
       "      <td>160.0</td>\n",
       "      <td>3609.0</td>\n",
       "      <td>8.0</td>\n",
       "      <td>70.0</td>\n",
       "      <td>usa</td>\n",
       "      <td>plymouth 'cuda 340</td>\n",
       "    </tr>\n",
       "    <tr>\n",
       "      <th>11</th>\n",
       "      <td>14.0</td>\n",
       "      <td>8.0</td>\n",
       "      <td>340.0</td>\n",
       "      <td>160.0</td>\n",
       "      <td>3609.0</td>\n",
       "      <td>8.0</td>\n",
       "      <td>70.0</td>\n",
       "      <td>usa</td>\n",
       "      <td>plymouth 'cuda 340</td>\n",
       "    </tr>\n",
       "    <tr>\n",
       "      <th>321</th>\n",
       "      <td>13.0</td>\n",
       "      <td>8.0</td>\n",
       "      <td>360.0</td>\n",
       "      <td>170.0</td>\n",
       "      <td>4654.0</td>\n",
       "      <td>13.0</td>\n",
       "      <td>73.0</td>\n",
       "      <td>usa</td>\n",
       "      <td>plymouth custom suburb</td>\n",
       "    </tr>\n",
       "    <tr>\n",
       "      <th>94</th>\n",
       "      <td>13.0</td>\n",
       "      <td>8.0</td>\n",
       "      <td>360.0</td>\n",
       "      <td>170.0</td>\n",
       "      <td>4654.0</td>\n",
       "      <td>13.0</td>\n",
       "      <td>73.0</td>\n",
       "      <td>usa</td>\n",
       "      <td>plymouth custom suburb</td>\n",
       "    </tr>\n",
       "    <tr>\n",
       "      <th>161</th>\n",
       "      <td>27.0</td>\n",
       "      <td>4.0</td>\n",
       "      <td>101.0</td>\n",
       "      <td>83.0</td>\n",
       "      <td>2202.0</td>\n",
       "      <td>15.3</td>\n",
       "      <td>76.0</td>\n",
       "      <td>europe</td>\n",
       "      <td>renault 12tl</td>\n",
       "    </tr>\n",
       "    <tr>\n",
       "      <th>325</th>\n",
       "      <td>27.0</td>\n",
       "      <td>4.0</td>\n",
       "      <td>101.0</td>\n",
       "      <td>83.0</td>\n",
       "      <td>2202.0</td>\n",
       "      <td>15.3</td>\n",
       "      <td>76.0</td>\n",
       "      <td>europe</td>\n",
       "      <td>renault 12tl</td>\n",
       "    </tr>\n",
       "    <tr>\n",
       "      <th>319</th>\n",
       "      <td>25.0</td>\n",
       "      <td>4.0</td>\n",
       "      <td>104.0</td>\n",
       "      <td>95.0</td>\n",
       "      <td>2375.0</td>\n",
       "      <td>17.5</td>\n",
       "      <td>70.0</td>\n",
       "      <td>europe</td>\n",
       "      <td>saab 99e</td>\n",
       "    </tr>\n",
       "    <tr>\n",
       "      <th>20</th>\n",
       "      <td>25.0</td>\n",
       "      <td>4.0</td>\n",
       "      <td>104.0</td>\n",
       "      <td>95.0</td>\n",
       "      <td>2375.0</td>\n",
       "      <td>17.5</td>\n",
       "      <td>70.0</td>\n",
       "      <td>europe</td>\n",
       "      <td>saab 99e</td>\n",
       "    </tr>\n",
       "  </tbody>\n",
       "</table>\n",
       "</div>"
      ],
      "text/plain": [
       "      mpg  cylinders  displacement  horsepower  weight  acceleration  \\\n",
       "323  24.3        4.0         151.0        90.0  3003.0          20.1   \n",
       "268  24.3        4.0         151.0        90.0  3003.0          20.1   \n",
       "322  16.0        6.0         258.0       110.0  3632.0          18.0   \n",
       "117  16.0        6.0         258.0       110.0  3632.0          18.0   \n",
       "308  25.0        6.0         181.0       110.0  2945.0          16.4   \n",
       "328  25.0        6.0         181.0       110.0  2945.0          16.4   \n",
       "31   17.0        6.0         250.0       100.0  3329.0          15.5   \n",
       "326  17.0        6.0         250.0       100.0  3329.0          15.5   \n",
       "165  14.5        8.0         351.0       152.0  4215.0          12.8   \n",
       "327  14.5        8.0         351.0       152.0  4215.0          12.8   \n",
       "79   12.0        8.0         429.0       198.0  4952.0          11.5   \n",
       "324  12.0        8.0         429.0       198.0  4952.0          11.5   \n",
       "320  14.0        8.0         340.0       160.0  3609.0           8.0   \n",
       "11   14.0        8.0         340.0       160.0  3609.0           8.0   \n",
       "321  13.0        8.0         360.0       170.0  4654.0          13.0   \n",
       "94   13.0        8.0         360.0       170.0  4654.0          13.0   \n",
       "161  27.0        4.0         101.0        83.0  2202.0          15.3   \n",
       "325  27.0        4.0         101.0        83.0  2202.0          15.3   \n",
       "319  25.0        4.0         104.0        95.0  2375.0          17.5   \n",
       "20   25.0        4.0         104.0        95.0  2375.0          17.5   \n",
       "\n",
       "     model_year  origin                       name  \n",
       "323        80.0     usa                amc concord  \n",
       "268        80.0     usa                amc concord  \n",
       "322        74.0     usa                amc matador  \n",
       "117        74.0     usa                amc matador  \n",
       "308        82.0     usa      buick century limited  \n",
       "328        82.0     usa      buick century limited  \n",
       "31         71.0     usa  chevrolet chevelle malibu  \n",
       "326        71.0     usa  chevrolet chevelle malibu  \n",
       "165        76.0     usa           ford gran torino  \n",
       "327        76.0     usa           ford gran torino  \n",
       "79         73.0     usa   mercury marquis brougham  \n",
       "324        73.0     usa   mercury marquis brougham  \n",
       "320        70.0     usa         plymouth 'cuda 340  \n",
       "11         70.0     usa         plymouth 'cuda 340  \n",
       "321        73.0     usa     plymouth custom suburb  \n",
       "94         73.0     usa     plymouth custom suburb  \n",
       "161        76.0  europe               renault 12tl  \n",
       "325        76.0  europe               renault 12tl  \n",
       "319        70.0  europe                   saab 99e  \n",
       "20         70.0  europe                   saab 99e  "
      ]
     },
     "execution_count": 104,
     "metadata": {},
     "output_type": "execute_result"
    }
   ],
   "source": [
    "cars.loc[cars.duplicated(keep = False)].sort_values(\"name\")\n",
    "\n",
    "#keep parameter - false값을 할당하면 모든 중복값을 true로 표기"
   ]
  },
  {
   "cell_type": "markdown",
   "metadata": {},
   "source": [
    "All pairs seem to be real duplicates."
   ]
  },
  {
   "cell_type": "markdown",
   "metadata": {},
   "source": [
    "105. __Drop one instance__ of each duplicated pair! __Save__ the change!"
   ]
  },
  {
   "cell_type": "code",
   "execution_count": 106,
   "metadata": {
    "ExecuteTime": {
     "end_time": "2023-05-03T11:01:19.470060Z",
     "start_time": "2023-05-03T11:01:19.416063Z"
    }
   },
   "outputs": [
    {
     "data": {
      "text/html": [
       "<div>\n",
       "<style scoped>\n",
       "    .dataframe tbody tr th:only-of-type {\n",
       "        vertical-align: middle;\n",
       "    }\n",
       "\n",
       "    .dataframe tbody tr th {\n",
       "        vertical-align: top;\n",
       "    }\n",
       "\n",
       "    .dataframe thead th {\n",
       "        text-align: right;\n",
       "    }\n",
       "</style>\n",
       "<table border=\"1\" class=\"dataframe\">\n",
       "  <thead>\n",
       "    <tr style=\"text-align: right;\">\n",
       "      <th></th>\n",
       "      <th>mpg</th>\n",
       "      <th>cylinders</th>\n",
       "      <th>displacement</th>\n",
       "      <th>horsepower</th>\n",
       "      <th>weight</th>\n",
       "      <th>acceleration</th>\n",
       "      <th>model_year</th>\n",
       "      <th>origin</th>\n",
       "      <th>name</th>\n",
       "    </tr>\n",
       "  </thead>\n",
       "  <tbody>\n",
       "    <tr>\n",
       "      <th>0</th>\n",
       "      <td>18.0</td>\n",
       "      <td>8.0</td>\n",
       "      <td>307.0</td>\n",
       "      <td>130.0</td>\n",
       "      <td>3504.0</td>\n",
       "      <td>12.0</td>\n",
       "      <td>70.0</td>\n",
       "      <td>usa</td>\n",
       "      <td>chevrolet chevelle malibu</td>\n",
       "    </tr>\n",
       "    <tr>\n",
       "      <th>1</th>\n",
       "      <td>15.0</td>\n",
       "      <td>8.0</td>\n",
       "      <td>350.0</td>\n",
       "      <td>165.0</td>\n",
       "      <td>3693.0</td>\n",
       "      <td>11.5</td>\n",
       "      <td>70.0</td>\n",
       "      <td>usa</td>\n",
       "      <td>buick skylark 320</td>\n",
       "    </tr>\n",
       "    <tr>\n",
       "      <th>2</th>\n",
       "      <td>18.0</td>\n",
       "      <td>8.0</td>\n",
       "      <td>318.0</td>\n",
       "      <td>150.0</td>\n",
       "      <td>3436.0</td>\n",
       "      <td>11.0</td>\n",
       "      <td>70.0</td>\n",
       "      <td>usa</td>\n",
       "      <td>plymouth satellite</td>\n",
       "    </tr>\n",
       "    <tr>\n",
       "      <th>3</th>\n",
       "      <td>16.0</td>\n",
       "      <td>8.0</td>\n",
       "      <td>304.0</td>\n",
       "      <td>150.0</td>\n",
       "      <td>3433.0</td>\n",
       "      <td>12.0</td>\n",
       "      <td>70.0</td>\n",
       "      <td>usa</td>\n",
       "      <td>amc rebel sst</td>\n",
       "    </tr>\n",
       "    <tr>\n",
       "      <th>4</th>\n",
       "      <td>17.0</td>\n",
       "      <td>8.0</td>\n",
       "      <td>302.0</td>\n",
       "      <td>140.0</td>\n",
       "      <td>3449.0</td>\n",
       "      <td>10.5</td>\n",
       "      <td>70.0</td>\n",
       "      <td>usa</td>\n",
       "      <td>ford torino</td>\n",
       "    </tr>\n",
       "    <tr>\n",
       "      <th>...</th>\n",
       "      <td>...</td>\n",
       "      <td>...</td>\n",
       "      <td>...</td>\n",
       "      <td>...</td>\n",
       "      <td>...</td>\n",
       "      <td>...</td>\n",
       "      <td>...</td>\n",
       "      <td>...</td>\n",
       "      <td>...</td>\n",
       "    </tr>\n",
       "    <tr>\n",
       "      <th>314</th>\n",
       "      <td>27.0</td>\n",
       "      <td>4.0</td>\n",
       "      <td>140.0</td>\n",
       "      <td>86.0</td>\n",
       "      <td>2790.0</td>\n",
       "      <td>15.6</td>\n",
       "      <td>82.0</td>\n",
       "      <td>usa</td>\n",
       "      <td>ford mustang gl</td>\n",
       "    </tr>\n",
       "    <tr>\n",
       "      <th>315</th>\n",
       "      <td>44.0</td>\n",
       "      <td>4.0</td>\n",
       "      <td>97.0</td>\n",
       "      <td>52.0</td>\n",
       "      <td>2130.0</td>\n",
       "      <td>24.6</td>\n",
       "      <td>82.0</td>\n",
       "      <td>europe</td>\n",
       "      <td>vw pickup</td>\n",
       "    </tr>\n",
       "    <tr>\n",
       "      <th>316</th>\n",
       "      <td>32.0</td>\n",
       "      <td>4.0</td>\n",
       "      <td>135.0</td>\n",
       "      <td>84.0</td>\n",
       "      <td>2295.0</td>\n",
       "      <td>11.6</td>\n",
       "      <td>82.0</td>\n",
       "      <td>usa</td>\n",
       "      <td>dodge rampage</td>\n",
       "    </tr>\n",
       "    <tr>\n",
       "      <th>317</th>\n",
       "      <td>28.0</td>\n",
       "      <td>4.0</td>\n",
       "      <td>120.0</td>\n",
       "      <td>79.0</td>\n",
       "      <td>2625.0</td>\n",
       "      <td>18.6</td>\n",
       "      <td>82.0</td>\n",
       "      <td>usa</td>\n",
       "      <td>ford ranger</td>\n",
       "    </tr>\n",
       "    <tr>\n",
       "      <th>318</th>\n",
       "      <td>31.0</td>\n",
       "      <td>4.0</td>\n",
       "      <td>119.0</td>\n",
       "      <td>82.0</td>\n",
       "      <td>2720.0</td>\n",
       "      <td>19.4</td>\n",
       "      <td>82.0</td>\n",
       "      <td>usa</td>\n",
       "      <td>chevrolet s-10</td>\n",
       "    </tr>\n",
       "  </tbody>\n",
       "</table>\n",
       "<p>313 rows × 9 columns</p>\n",
       "</div>"
      ],
      "text/plain": [
       "      mpg  cylinders  displacement  horsepower  weight  acceleration  \\\n",
       "0    18.0        8.0         307.0       130.0  3504.0          12.0   \n",
       "1    15.0        8.0         350.0       165.0  3693.0          11.5   \n",
       "2    18.0        8.0         318.0       150.0  3436.0          11.0   \n",
       "3    16.0        8.0         304.0       150.0  3433.0          12.0   \n",
       "4    17.0        8.0         302.0       140.0  3449.0          10.5   \n",
       "..    ...        ...           ...         ...     ...           ...   \n",
       "314  27.0        4.0         140.0        86.0  2790.0          15.6   \n",
       "315  44.0        4.0          97.0        52.0  2130.0          24.6   \n",
       "316  32.0        4.0         135.0        84.0  2295.0          11.6   \n",
       "317  28.0        4.0         120.0        79.0  2625.0          18.6   \n",
       "318  31.0        4.0         119.0        82.0  2720.0          19.4   \n",
       "\n",
       "     model_year  origin                       name  \n",
       "0          70.0     usa  chevrolet chevelle malibu  \n",
       "1          70.0     usa          buick skylark 320  \n",
       "2          70.0     usa         plymouth satellite  \n",
       "3          70.0     usa              amc rebel sst  \n",
       "4          70.0     usa                ford torino  \n",
       "..          ...     ...                        ...  \n",
       "314        82.0     usa            ford mustang gl  \n",
       "315        82.0  europe                  vw pickup  \n",
       "316        82.0     usa              dodge rampage  \n",
       "317        82.0     usa                ford ranger  \n",
       "318        82.0     usa             chevrolet s-10  \n",
       "\n",
       "[313 rows x 9 columns]"
      ]
     },
     "execution_count": 106,
     "metadata": {},
     "output_type": "execute_result"
    }
   ],
   "source": [
    "cars.drop_duplicates(keep='first')"
   ]
  },
  {
   "cell_type": "code",
   "execution_count": 107,
   "metadata": {
    "ExecuteTime": {
     "end_time": "2023-05-03T11:01:23.375077Z",
     "start_time": "2023-05-03T11:01:23.334702Z"
    }
   },
   "outputs": [
    {
     "data": {
      "text/html": [
       "<div>\n",
       "<style scoped>\n",
       "    .dataframe tbody tr th:only-of-type {\n",
       "        vertical-align: middle;\n",
       "    }\n",
       "\n",
       "    .dataframe tbody tr th {\n",
       "        vertical-align: top;\n",
       "    }\n",
       "\n",
       "    .dataframe thead th {\n",
       "        text-align: right;\n",
       "    }\n",
       "</style>\n",
       "<table border=\"1\" class=\"dataframe\">\n",
       "  <thead>\n",
       "    <tr style=\"text-align: right;\">\n",
       "      <th></th>\n",
       "      <th>mpg</th>\n",
       "      <th>cylinders</th>\n",
       "      <th>displacement</th>\n",
       "      <th>horsepower</th>\n",
       "      <th>weight</th>\n",
       "      <th>acceleration</th>\n",
       "      <th>model_year</th>\n",
       "      <th>origin</th>\n",
       "      <th>name</th>\n",
       "    </tr>\n",
       "  </thead>\n",
       "  <tbody>\n",
       "    <tr>\n",
       "      <th>0</th>\n",
       "      <td>18.0</td>\n",
       "      <td>8.0</td>\n",
       "      <td>307.0</td>\n",
       "      <td>130.0</td>\n",
       "      <td>3504.0</td>\n",
       "      <td>12.0</td>\n",
       "      <td>70.0</td>\n",
       "      <td>usa</td>\n",
       "      <td>chevrolet chevelle malibu</td>\n",
       "    </tr>\n",
       "    <tr>\n",
       "      <th>1</th>\n",
       "      <td>15.0</td>\n",
       "      <td>8.0</td>\n",
       "      <td>350.0</td>\n",
       "      <td>165.0</td>\n",
       "      <td>3693.0</td>\n",
       "      <td>11.5</td>\n",
       "      <td>70.0</td>\n",
       "      <td>usa</td>\n",
       "      <td>buick skylark 320</td>\n",
       "    </tr>\n",
       "    <tr>\n",
       "      <th>2</th>\n",
       "      <td>18.0</td>\n",
       "      <td>8.0</td>\n",
       "      <td>318.0</td>\n",
       "      <td>150.0</td>\n",
       "      <td>3436.0</td>\n",
       "      <td>11.0</td>\n",
       "      <td>70.0</td>\n",
       "      <td>usa</td>\n",
       "      <td>plymouth satellite</td>\n",
       "    </tr>\n",
       "    <tr>\n",
       "      <th>3</th>\n",
       "      <td>16.0</td>\n",
       "      <td>8.0</td>\n",
       "      <td>304.0</td>\n",
       "      <td>150.0</td>\n",
       "      <td>3433.0</td>\n",
       "      <td>12.0</td>\n",
       "      <td>70.0</td>\n",
       "      <td>usa</td>\n",
       "      <td>amc rebel sst</td>\n",
       "    </tr>\n",
       "    <tr>\n",
       "      <th>4</th>\n",
       "      <td>17.0</td>\n",
       "      <td>8.0</td>\n",
       "      <td>302.0</td>\n",
       "      <td>140.0</td>\n",
       "      <td>3449.0</td>\n",
       "      <td>10.5</td>\n",
       "      <td>70.0</td>\n",
       "      <td>usa</td>\n",
       "      <td>ford torino</td>\n",
       "    </tr>\n",
       "  </tbody>\n",
       "</table>\n",
       "</div>"
      ],
      "text/plain": [
       "    mpg  cylinders  displacement  horsepower  weight  acceleration  \\\n",
       "0  18.0        8.0         307.0       130.0  3504.0          12.0   \n",
       "1  15.0        8.0         350.0       165.0  3693.0          11.5   \n",
       "2  18.0        8.0         318.0       150.0  3436.0          11.0   \n",
       "3  16.0        8.0         304.0       150.0  3433.0          12.0   \n",
       "4  17.0        8.0         302.0       140.0  3449.0          10.5   \n",
       "\n",
       "   model_year origin                       name  \n",
       "0        70.0    usa  chevrolet chevelle malibu  \n",
       "1        70.0    usa          buick skylark 320  \n",
       "2        70.0    usa         plymouth satellite  \n",
       "3        70.0    usa              amc rebel sst  \n",
       "4        70.0    usa                ford torino  "
      ]
     },
     "execution_count": 107,
     "metadata": {},
     "output_type": "execute_result"
    }
   ],
   "source": [
    "# run the cell\n",
    "cars.head()"
   ]
  },
  {
   "cell_type": "code",
   "execution_count": 108,
   "metadata": {
    "ExecuteTime": {
     "end_time": "2023-05-03T11:01:25.291680Z",
     "start_time": "2023-05-03T11:01:25.268123Z"
    }
   },
   "outputs": [
    {
     "name": "stdout",
     "output_type": "stream",
     "text": [
      "<class 'pandas.core.frame.DataFrame'>\n",
      "Index: 323 entries, 0 to 328\n",
      "Data columns (total 9 columns):\n",
      " #   Column        Non-Null Count  Dtype  \n",
      "---  ------        --------------  -----  \n",
      " 0   mpg           323 non-null    float64\n",
      " 1   cylinders     323 non-null    float64\n",
      " 2   displacement  323 non-null    float64\n",
      " 3   horsepower    323 non-null    float64\n",
      " 4   weight        323 non-null    float64\n",
      " 5   acceleration  323 non-null    float64\n",
      " 6   model_year    323 non-null    float64\n",
      " 7   origin        323 non-null    object \n",
      " 8   name          323 non-null    object \n",
      "dtypes: float64(7), object(2)\n",
      "memory usage: 25.2+ KB\n"
     ]
    }
   ],
   "source": [
    "# run the cell!\n",
    "cars.info()"
   ]
  },
  {
   "cell_type": "markdown",
   "metadata": {},
   "source": [
    "106. Our dataset seems to be pretty clean now! __Save__ and __export__ to a new csv-file (cars_clean.csv)! Do not export the RangeIndex!"
   ]
  },
  {
   "cell_type": "code",
   "execution_count": 109,
   "metadata": {
    "ExecuteTime": {
     "end_time": "2023-05-03T11:02:14.120974Z",
     "start_time": "2023-05-03T11:02:14.086225Z"
    }
   },
   "outputs": [],
   "source": [
    "cars.to_csv('cars_clean.csv')"
   ]
  },
  {
   "cell_type": "markdown",
   "metadata": {},
   "source": [
    "Call the __describe()__ method on all __non-numerical columns__!"
   ]
  },
  {
   "cell_type": "code",
   "execution_count": 110,
   "metadata": {
    "ExecuteTime": {
     "end_time": "2023-05-03T11:02:17.608982Z",
     "start_time": "2023-05-03T11:02:17.560972Z"
    }
   },
   "outputs": [
    {
     "data": {
      "text/html": [
       "<div>\n",
       "<style scoped>\n",
       "    .dataframe tbody tr th:only-of-type {\n",
       "        vertical-align: middle;\n",
       "    }\n",
       "\n",
       "    .dataframe tbody tr th {\n",
       "        vertical-align: top;\n",
       "    }\n",
       "\n",
       "    .dataframe thead th {\n",
       "        text-align: right;\n",
       "    }\n",
       "</style>\n",
       "<table border=\"1\" class=\"dataframe\">\n",
       "  <thead>\n",
       "    <tr style=\"text-align: right;\">\n",
       "      <th></th>\n",
       "      <th>origin</th>\n",
       "      <th>name</th>\n",
       "    </tr>\n",
       "  </thead>\n",
       "  <tbody>\n",
       "    <tr>\n",
       "      <th>count</th>\n",
       "      <td>323</td>\n",
       "      <td>323</td>\n",
       "    </tr>\n",
       "    <tr>\n",
       "      <th>unique</th>\n",
       "      <td>2</td>\n",
       "      <td>237</td>\n",
       "    </tr>\n",
       "    <tr>\n",
       "      <th>top</th>\n",
       "      <td>usa</td>\n",
       "      <td>amc matador</td>\n",
       "    </tr>\n",
       "    <tr>\n",
       "      <th>freq</th>\n",
       "      <td>253</td>\n",
       "      <td>6</td>\n",
       "    </tr>\n",
       "  </tbody>\n",
       "</table>\n",
       "</div>"
      ],
      "text/plain": [
       "       origin         name\n",
       "count     323          323\n",
       "unique      2          237\n",
       "top       usa  amc matador\n",
       "freq      253            6"
      ]
     },
     "execution_count": 110,
     "metadata": {},
     "output_type": "execute_result"
    }
   ],
   "source": [
    "# run the cell!\n",
    "cars.describe(include = \"O\")"
   ]
  },
  {
   "cell_type": "markdown",
   "metadata": {},
   "source": [
    "Are there any __categorical features__ (only few unique values) where the datatype could be __converted to \"category\"__? <br>\n",
    "107. If so, __convert__ and __overwrite__ the column(s)!"
   ]
  },
  {
   "cell_type": "code",
   "execution_count": 111,
   "metadata": {
    "ExecuteTime": {
     "end_time": "2023-05-03T11:03:26.311542Z",
     "start_time": "2023-05-03T11:03:26.298532Z"
    }
   },
   "outputs": [],
   "source": [
    "cars.origin = cars.origin.astype('category')"
   ]
  },
  {
   "cell_type": "markdown",
   "metadata": {},
   "source": [
    "__Inspect__. Did we __reduce memory usage__?"
   ]
  },
  {
   "cell_type": "code",
   "execution_count": 112,
   "metadata": {
    "ExecuteTime": {
     "end_time": "2023-05-03T11:03:27.328449Z",
     "start_time": "2023-05-03T11:03:27.290454Z"
    }
   },
   "outputs": [
    {
     "name": "stdout",
     "output_type": "stream",
     "text": [
      "<class 'pandas.core.frame.DataFrame'>\n",
      "Index: 323 entries, 0 to 328\n",
      "Data columns (total 9 columns):\n",
      " #   Column        Non-Null Count  Dtype   \n",
      "---  ------        --------------  -----   \n",
      " 0   mpg           323 non-null    float64 \n",
      " 1   cylinders     323 non-null    float64 \n",
      " 2   displacement  323 non-null    float64 \n",
      " 3   horsepower    323 non-null    float64 \n",
      " 4   weight        323 non-null    float64 \n",
      " 5   acceleration  323 non-null    float64 \n",
      " 6   model_year    323 non-null    float64 \n",
      " 7   origin        323 non-null    category\n",
      " 8   name          323 non-null    object  \n",
      "dtypes: category(1), float64(7), object(1)\n",
      "memory usage: 23.1+ KB\n"
     ]
    }
   ],
   "source": [
    "#run the cell!\n",
    "cars.info()"
   ]
  },
  {
   "cell_type": "markdown",
   "metadata": {},
   "source": [
    "Yes, we reduced memory usage!"
   ]
  },
  {
   "cell_type": "markdown",
   "metadata": {},
   "source": [
    "# Well Done!"
   ]
  },
  {
   "cell_type": "markdown",
   "metadata": {},
   "source": [
    "-----------------------------------------"
   ]
  },
  {
   "cell_type": "markdown",
   "metadata": {},
   "source": [
    "# Hints (Spoiler!)"
   ]
  },
  {
   "cell_type": "markdown",
   "metadata": {},
   "source": [
    "85. rename() method, column \"model year\""
   ]
  },
  {
   "cell_type": "markdown",
   "metadata": {},
   "source": [
    "86. value_counts() method"
   ]
  },
  {
   "cell_type": "markdown",
   "metadata": {},
   "source": [
    "87. replace() method"
   ]
  },
  {
   "cell_type": "markdown",
   "metadata": {},
   "source": [
    "88. string(str) method replace(), \" hp\""
   ]
  },
  {
   "cell_type": "markdown",
   "metadata": {},
   "source": [
    "89. replace() method, np.nan"
   ]
  },
  {
   "cell_type": "markdown",
   "metadata": {},
   "source": [
    "90. astype() method, \"float\""
   ]
  },
  {
   "cell_type": "markdown",
   "metadata": {},
   "source": [
    "91. string(str) methods lower() and strip()"
   ]
  },
  {
   "cell_type": "markdown",
   "metadata": {},
   "source": [
    "92. value_counts() method"
   ]
  },
  {
   "cell_type": "markdown",
   "metadata": {},
   "source": [
    "93. replace() method"
   ]
  },
  {
   "cell_type": "markdown",
   "metadata": {},
   "source": [
    "94. sort_values() method"
   ]
  },
  {
   "cell_type": "markdown",
   "metadata": {},
   "source": [
    "95. Filter cars with cars.weight.idxmax()"
   ]
  },
  {
   "cell_type": "markdown",
   "metadata": {},
   "source": [
    "96. cars.weight.idxmax(), \"weight\""
   ]
  },
  {
   "cell_type": "markdown",
   "metadata": {},
   "source": [
    "97. Filter cars with cars.mpg.idxmin()"
   ]
  },
  {
   "cell_type": "markdown",
   "metadata": {},
   "source": [
    "98. cars.mpg.idxmin(), \"mpg\", 1/x"
   ]
  },
  {
   "cell_type": "markdown",
   "metadata": {},
   "source": [
    "99. methods isna() and any()"
   ]
  },
  {
   "cell_type": "markdown",
   "metadata": {},
   "source": [
    "100. dropna() method"
   ]
  },
  {
   "cell_type": "markdown",
   "metadata": {},
   "source": [
    "101. subset parameter, \"name\""
   ]
  },
  {
   "cell_type": "markdown",
   "metadata": {},
   "source": [
    "102. keep parameter"
   ]
  },
  {
   "cell_type": "markdown",
   "metadata": {},
   "source": [
    "103. methods duplicated() and sum()"
   ]
  },
  {
   "cell_type": "markdown",
   "metadata": {},
   "source": [
    "104. keep parameter"
   ]
  },
  {
   "cell_type": "markdown",
   "metadata": {},
   "source": [
    "105. drop_duplicates() method"
   ]
  },
  {
   "cell_type": "markdown",
   "metadata": {},
   "source": [
    "106. to_csv() method"
   ]
  },
  {
   "cell_type": "markdown",
   "metadata": {},
   "source": [
    "107. astype() method"
   ]
  }
 ],
 "metadata": {
  "kernelspec": {
   "display_name": "Python 3 (ipykernel)",
   "language": "python",
   "name": "python3"
  },
  "language_info": {
   "codemirror_mode": {
    "name": "ipython",
    "version": 3
   },
   "file_extension": ".py",
   "mimetype": "text/x-python",
   "name": "python",
   "nbconvert_exporter": "python",
   "pygments_lexer": "ipython3",
   "version": "3.9.7"
  },
  "toc": {
   "base_numbering": 1,
   "nav_menu": {},
   "number_sections": true,
   "sideBar": true,
   "skip_h1_title": false,
   "title_cell": "Table of Contents",
   "title_sidebar": "Contents",
   "toc_cell": false,
   "toc_position": {},
   "toc_section_display": true,
   "toc_window_display": false
  }
 },
 "nbformat": 4,
 "nbformat_minor": 2
}
