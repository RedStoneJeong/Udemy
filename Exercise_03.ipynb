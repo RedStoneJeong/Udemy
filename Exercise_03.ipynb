{
  "cells": [
    {
      "cell_type": "markdown",
      "metadata": {
        "id": "view-in-github",
        "colab_type": "text"
      },
      "source": [
        "<a href=\"https://colab.research.google.com/github/RedStoneJeong/Data-Science/blob/main/Exercise_03.ipynb\" target=\"_parent\"><img src=\"https://colab.research.google.com/assets/colab-badge.svg\" alt=\"Open In Colab\"/></a>"
      ]
    },
    {
      "cell_type": "markdown",
      "metadata": {
        "id": "YgpxGk4Fm8ZH"
      },
      "source": [
        "# Coding Exercises (Part 1)"
      ]
    },
    {
      "cell_type": "markdown",
      "metadata": {
        "id": "43SuotQDm8ZO"
      },
      "source": [
        "Now, you will have the opportunity to analyze your own dataset. <br>\n",
        "__Follow the instructions__ and insert your code! You are either requested to \n",
        "- Complete the Code and __Fill in the gaps__. Gaps are marked with \"__---__\" and are __placeholders__ for your code fragment. \n",
        "- Write Code completely __on your own__ "
      ]
    },
    {
      "cell_type": "markdown",
      "metadata": {
        "id": "qhILXtsRm8ZP"
      },
      "source": [
        "In some exercises, you will find questions that can only be answered, if your code is correct and returns the right output! The correct answer is provided below your coding cell. There you can check whether your code is correct"
      ]
    },
    {
      "cell_type": "markdown",
      "metadata": {
        "id": "UzTmYShem8ZP"
      },
      "source": [
        "If you need a hint, check the __Hints Section__ at the end of this Notebook. Exercises and Hints are numerated accordingly."
      ]
    },
    {
      "cell_type": "markdown",
      "metadata": {
        "id": "Fu41Bbinm8ZP"
      },
      "source": [
        "If you need some further help or if you want to check your code, you can also watch the __solutions videos__ or check the __solutions notebook__."
      ]
    },
    {
      "cell_type": "markdown",
      "metadata": {
        "id": "C0RUsI8Fm8ZQ"
      },
      "source": [
        "### Have Fun!"
      ]
    },
    {
      "cell_type": "markdown",
      "metadata": {
        "id": "F1NSj7jdm8ZQ"
      },
      "source": [
        "--------------------------------------------------------------------------------------------------------------"
      ]
    },
    {
      "cell_type": "markdown",
      "metadata": {
        "id": "IgFR3Fnpm8ZR"
      },
      "source": [
        "## Pandas Series\n"
      ]
    },
    {
      "cell_type": "markdown",
      "metadata": {
        "id": "F8BnRm-Am8ZR"
      },
      "source": [
        "### Exercise 3: Analyzing Columns / Pandas Series"
      ]
    },
    {
      "cell_type": "code",
      "execution_count": 1,
      "metadata": {
        "id": "3pynx1Xom8ZS"
      },
      "outputs": [],
      "source": [
        "#run the cell!\n",
        "import pandas as pd"
      ]
    },
    {
      "cell_type": "code",
      "execution_count": 3,
      "metadata": {
        "id": "NZ4zDejDm8ZU"
      },
      "outputs": [],
      "source": [
        "#run the cell!\n",
        "cars = pd.read_csv(\"cars.csv\")"
      ]
    },
    {
      "cell_type": "code",
      "execution_count": 4,
      "metadata": {
        "colab": {
          "base_uri": "https://localhost:8080/",
          "height": 485
        },
        "id": "0uvhUodKm8ZX",
        "outputId": "d6c715d6-1a79-47b3-ebe5-b45e3b99f908"
      },
      "outputs": [
        {
          "output_type": "execute_result",
          "data": {
            "text/plain": [
              "      mpg  cylinders  displacement  horsepower  weight  acceleration  \\\n",
              "0    18.0          8         307.0       130.0    3504          12.0   \n",
              "1    15.0          8         350.0       165.0    3693          11.5   \n",
              "2    18.0          8         318.0       150.0    3436          11.0   \n",
              "3    16.0          8         304.0       150.0    3433          12.0   \n",
              "4    17.0          8         302.0       140.0    3449          10.5   \n",
              "..    ...        ...           ...         ...     ...           ...   \n",
              "393  27.0          4         140.0        86.0    2790          15.6   \n",
              "394  44.0          4          97.0        52.0    2130          24.6   \n",
              "395  32.0          4         135.0        84.0    2295          11.6   \n",
              "396  28.0          4         120.0        79.0    2625          18.6   \n",
              "397  31.0          4         119.0        82.0    2720          19.4   \n",
              "\n",
              "     model_year  origin                       name  \n",
              "0            70     usa  chevrolet chevelle malibu  \n",
              "1            70     usa          buick skylark 320  \n",
              "2            70     usa         plymouth satellite  \n",
              "3            70     usa              amc rebel sst  \n",
              "4            70     usa                ford torino  \n",
              "..          ...     ...                        ...  \n",
              "393          82     usa            ford mustang gl  \n",
              "394          82  europe                  vw pickup  \n",
              "395          82     usa              dodge rampage  \n",
              "396          82     usa                ford ranger  \n",
              "397          82     usa             chevrolet s-10  \n",
              "\n",
              "[398 rows x 9 columns]"
            ],
            "text/html": [
              "\n",
              "  <div id=\"df-14fdc0c3-2bfc-4b4d-9d23-cf457645f2be\">\n",
              "    <div class=\"colab-df-container\">\n",
              "      <div>\n",
              "<style scoped>\n",
              "    .dataframe tbody tr th:only-of-type {\n",
              "        vertical-align: middle;\n",
              "    }\n",
              "\n",
              "    .dataframe tbody tr th {\n",
              "        vertical-align: top;\n",
              "    }\n",
              "\n",
              "    .dataframe thead th {\n",
              "        text-align: right;\n",
              "    }\n",
              "</style>\n",
              "<table border=\"1\" class=\"dataframe\">\n",
              "  <thead>\n",
              "    <tr style=\"text-align: right;\">\n",
              "      <th></th>\n",
              "      <th>mpg</th>\n",
              "      <th>cylinders</th>\n",
              "      <th>displacement</th>\n",
              "      <th>horsepower</th>\n",
              "      <th>weight</th>\n",
              "      <th>acceleration</th>\n",
              "      <th>model_year</th>\n",
              "      <th>origin</th>\n",
              "      <th>name</th>\n",
              "    </tr>\n",
              "  </thead>\n",
              "  <tbody>\n",
              "    <tr>\n",
              "      <th>0</th>\n",
              "      <td>18.0</td>\n",
              "      <td>8</td>\n",
              "      <td>307.0</td>\n",
              "      <td>130.0</td>\n",
              "      <td>3504</td>\n",
              "      <td>12.0</td>\n",
              "      <td>70</td>\n",
              "      <td>usa</td>\n",
              "      <td>chevrolet chevelle malibu</td>\n",
              "    </tr>\n",
              "    <tr>\n",
              "      <th>1</th>\n",
              "      <td>15.0</td>\n",
              "      <td>8</td>\n",
              "      <td>350.0</td>\n",
              "      <td>165.0</td>\n",
              "      <td>3693</td>\n",
              "      <td>11.5</td>\n",
              "      <td>70</td>\n",
              "      <td>usa</td>\n",
              "      <td>buick skylark 320</td>\n",
              "    </tr>\n",
              "    <tr>\n",
              "      <th>2</th>\n",
              "      <td>18.0</td>\n",
              "      <td>8</td>\n",
              "      <td>318.0</td>\n",
              "      <td>150.0</td>\n",
              "      <td>3436</td>\n",
              "      <td>11.0</td>\n",
              "      <td>70</td>\n",
              "      <td>usa</td>\n",
              "      <td>plymouth satellite</td>\n",
              "    </tr>\n",
              "    <tr>\n",
              "      <th>3</th>\n",
              "      <td>16.0</td>\n",
              "      <td>8</td>\n",
              "      <td>304.0</td>\n",
              "      <td>150.0</td>\n",
              "      <td>3433</td>\n",
              "      <td>12.0</td>\n",
              "      <td>70</td>\n",
              "      <td>usa</td>\n",
              "      <td>amc rebel sst</td>\n",
              "    </tr>\n",
              "    <tr>\n",
              "      <th>4</th>\n",
              "      <td>17.0</td>\n",
              "      <td>8</td>\n",
              "      <td>302.0</td>\n",
              "      <td>140.0</td>\n",
              "      <td>3449</td>\n",
              "      <td>10.5</td>\n",
              "      <td>70</td>\n",
              "      <td>usa</td>\n",
              "      <td>ford torino</td>\n",
              "    </tr>\n",
              "    <tr>\n",
              "      <th>...</th>\n",
              "      <td>...</td>\n",
              "      <td>...</td>\n",
              "      <td>...</td>\n",
              "      <td>...</td>\n",
              "      <td>...</td>\n",
              "      <td>...</td>\n",
              "      <td>...</td>\n",
              "      <td>...</td>\n",
              "      <td>...</td>\n",
              "    </tr>\n",
              "    <tr>\n",
              "      <th>393</th>\n",
              "      <td>27.0</td>\n",
              "      <td>4</td>\n",
              "      <td>140.0</td>\n",
              "      <td>86.0</td>\n",
              "      <td>2790</td>\n",
              "      <td>15.6</td>\n",
              "      <td>82</td>\n",
              "      <td>usa</td>\n",
              "      <td>ford mustang gl</td>\n",
              "    </tr>\n",
              "    <tr>\n",
              "      <th>394</th>\n",
              "      <td>44.0</td>\n",
              "      <td>4</td>\n",
              "      <td>97.0</td>\n",
              "      <td>52.0</td>\n",
              "      <td>2130</td>\n",
              "      <td>24.6</td>\n",
              "      <td>82</td>\n",
              "      <td>europe</td>\n",
              "      <td>vw pickup</td>\n",
              "    </tr>\n",
              "    <tr>\n",
              "      <th>395</th>\n",
              "      <td>32.0</td>\n",
              "      <td>4</td>\n",
              "      <td>135.0</td>\n",
              "      <td>84.0</td>\n",
              "      <td>2295</td>\n",
              "      <td>11.6</td>\n",
              "      <td>82</td>\n",
              "      <td>usa</td>\n",
              "      <td>dodge rampage</td>\n",
              "    </tr>\n",
              "    <tr>\n",
              "      <th>396</th>\n",
              "      <td>28.0</td>\n",
              "      <td>4</td>\n",
              "      <td>120.0</td>\n",
              "      <td>79.0</td>\n",
              "      <td>2625</td>\n",
              "      <td>18.6</td>\n",
              "      <td>82</td>\n",
              "      <td>usa</td>\n",
              "      <td>ford ranger</td>\n",
              "    </tr>\n",
              "    <tr>\n",
              "      <th>397</th>\n",
              "      <td>31.0</td>\n",
              "      <td>4</td>\n",
              "      <td>119.0</td>\n",
              "      <td>82.0</td>\n",
              "      <td>2720</td>\n",
              "      <td>19.4</td>\n",
              "      <td>82</td>\n",
              "      <td>usa</td>\n",
              "      <td>chevrolet s-10</td>\n",
              "    </tr>\n",
              "  </tbody>\n",
              "</table>\n",
              "<p>398 rows × 9 columns</p>\n",
              "</div>\n",
              "      <button class=\"colab-df-convert\" onclick=\"convertToInteractive('df-14fdc0c3-2bfc-4b4d-9d23-cf457645f2be')\"\n",
              "              title=\"Convert this dataframe to an interactive table.\"\n",
              "              style=\"display:none;\">\n",
              "        \n",
              "  <svg xmlns=\"http://www.w3.org/2000/svg\" height=\"24px\"viewBox=\"0 0 24 24\"\n",
              "       width=\"24px\">\n",
              "    <path d=\"M0 0h24v24H0V0z\" fill=\"none\"/>\n",
              "    <path d=\"M18.56 5.44l.94 2.06.94-2.06 2.06-.94-2.06-.94-.94-2.06-.94 2.06-2.06.94zm-11 1L8.5 8.5l.94-2.06 2.06-.94-2.06-.94L8.5 2.5l-.94 2.06-2.06.94zm10 10l.94 2.06.94-2.06 2.06-.94-2.06-.94-.94-2.06-.94 2.06-2.06.94z\"/><path d=\"M17.41 7.96l-1.37-1.37c-.4-.4-.92-.59-1.43-.59-.52 0-1.04.2-1.43.59L10.3 9.45l-7.72 7.72c-.78.78-.78 2.05 0 2.83L4 21.41c.39.39.9.59 1.41.59.51 0 1.02-.2 1.41-.59l7.78-7.78 2.81-2.81c.8-.78.8-2.07 0-2.86zM5.41 20L4 18.59l7.72-7.72 1.47 1.35L5.41 20z\"/>\n",
              "  </svg>\n",
              "      </button>\n",
              "      \n",
              "  <style>\n",
              "    .colab-df-container {\n",
              "      display:flex;\n",
              "      flex-wrap:wrap;\n",
              "      gap: 12px;\n",
              "    }\n",
              "\n",
              "    .colab-df-convert {\n",
              "      background-color: #E8F0FE;\n",
              "      border: none;\n",
              "      border-radius: 50%;\n",
              "      cursor: pointer;\n",
              "      display: none;\n",
              "      fill: #1967D2;\n",
              "      height: 32px;\n",
              "      padding: 0 0 0 0;\n",
              "      width: 32px;\n",
              "    }\n",
              "\n",
              "    .colab-df-convert:hover {\n",
              "      background-color: #E2EBFA;\n",
              "      box-shadow: 0px 1px 2px rgba(60, 64, 67, 0.3), 0px 1px 3px 1px rgba(60, 64, 67, 0.15);\n",
              "      fill: #174EA6;\n",
              "    }\n",
              "\n",
              "    [theme=dark] .colab-df-convert {\n",
              "      background-color: #3B4455;\n",
              "      fill: #D2E3FC;\n",
              "    }\n",
              "\n",
              "    [theme=dark] .colab-df-convert:hover {\n",
              "      background-color: #434B5C;\n",
              "      box-shadow: 0px 1px 3px 1px rgba(0, 0, 0, 0.15);\n",
              "      filter: drop-shadow(0px 1px 2px rgba(0, 0, 0, 0.3));\n",
              "      fill: #FFFFFF;\n",
              "    }\n",
              "  </style>\n",
              "\n",
              "      <script>\n",
              "        const buttonEl =\n",
              "          document.querySelector('#df-14fdc0c3-2bfc-4b4d-9d23-cf457645f2be button.colab-df-convert');\n",
              "        buttonEl.style.display =\n",
              "          google.colab.kernel.accessAllowed ? 'block' : 'none';\n",
              "\n",
              "        async function convertToInteractive(key) {\n",
              "          const element = document.querySelector('#df-14fdc0c3-2bfc-4b4d-9d23-cf457645f2be');\n",
              "          const dataTable =\n",
              "            await google.colab.kernel.invokeFunction('convertToInteractive',\n",
              "                                                     [key], {});\n",
              "          if (!dataTable) return;\n",
              "\n",
              "          const docLinkHtml = 'Like what you see? Visit the ' +\n",
              "            '<a target=\"_blank\" href=https://colab.research.google.com/notebooks/data_table.ipynb>data table notebook</a>'\n",
              "            + ' to learn more about interactive tables.';\n",
              "          element.innerHTML = '';\n",
              "          dataTable['output_type'] = 'display_data';\n",
              "          await google.colab.output.renderOutput(dataTable, element);\n",
              "          const docLink = document.createElement('div');\n",
              "          docLink.innerHTML = docLinkHtml;\n",
              "          element.appendChild(docLink);\n",
              "        }\n",
              "      </script>\n",
              "    </div>\n",
              "  </div>\n",
              "  "
            ]
          },
          "metadata": {},
          "execution_count": 4
        }
      ],
      "source": [
        "#run the cell!\n",
        "cars"
      ]
    },
    {
      "cell_type": "code",
      "execution_count": 5,
      "metadata": {
        "colab": {
          "base_uri": "https://localhost:8080/"
        },
        "id": "weUnhz6Gm8ZZ",
        "outputId": "7294b20b-efa2-438a-ed13-24623c3ea2e6"
      },
      "outputs": [
        {
          "output_type": "stream",
          "name": "stdout",
          "text": [
            "<class 'pandas.core.frame.DataFrame'>\n",
            "RangeIndex: 398 entries, 0 to 397\n",
            "Data columns (total 9 columns):\n",
            " #   Column        Non-Null Count  Dtype  \n",
            "---  ------        --------------  -----  \n",
            " 0   mpg           398 non-null    float64\n",
            " 1   cylinders     398 non-null    int64  \n",
            " 2   displacement  398 non-null    float64\n",
            " 3   horsepower    392 non-null    float64\n",
            " 4   weight        398 non-null    int64  \n",
            " 5   acceleration  398 non-null    float64\n",
            " 6   model_year    398 non-null    int64  \n",
            " 7   origin        398 non-null    object \n",
            " 8   name          398 non-null    object \n",
            "dtypes: float64(4), int64(3), object(2)\n",
            "memory usage: 28.1+ KB\n"
          ]
        }
      ],
      "source": [
        "#run the cell!\n",
        "cars.info()"
      ]
    },
    {
      "cell_type": "markdown",
      "metadata": {
        "id": "rhAb2ejhm8ZZ"
      },
      "source": [
        "18. Select the numerical column __\"mpg\"__, create a __copy__ and __save__ the column/Pandas Series in the variable __mpg__! __Fill in the gaps__!"
      ]
    },
    {
      "cell_type": "code",
      "execution_count": 6,
      "metadata": {
        "id": "b3n5Yz5mm8Za"
      },
      "outputs": [],
      "source": [
        "mpg = cars.mpg.copy()"
      ]
    },
    {
      "cell_type": "code",
      "execution_count": 7,
      "metadata": {
        "colab": {
          "base_uri": "https://localhost:8080/"
        },
        "id": "fFl19EWbm8Za",
        "outputId": "abce6065-a2d8-49b0-bb6f-70eabd2a85e9"
      },
      "outputs": [
        {
          "output_type": "execute_result",
          "data": {
            "text/plain": [
              "0      18.0\n",
              "1      15.0\n",
              "2      18.0\n",
              "3      16.0\n",
              "4      17.0\n",
              "       ... \n",
              "393    27.0\n",
              "394    44.0\n",
              "395    32.0\n",
              "396    28.0\n",
              "397    31.0\n",
              "Name: mpg, Length: 398, dtype: float64"
            ]
          },
          "metadata": {},
          "execution_count": 7
        }
      ],
      "source": [
        "#run the cell!\n",
        "mpg"
      ]
    },
    {
      "cell_type": "markdown",
      "metadata": {
        "id": "8Ri0xrchm8Za"
      },
      "source": [
        "19. Get some __summary statistics__ on the Series __mpg__! What is the __mpg__ of the __least fuel efficient__ car?"
      ]
    },
    {
      "cell_type": "code",
      "execution_count": 8,
      "metadata": {
        "colab": {
          "base_uri": "https://localhost:8080/"
        },
        "id": "nkLPdQWJm8Zb",
        "outputId": "c606a415-eaf1-46db-d9a8-d7055720c9e4"
      },
      "outputs": [
        {
          "output_type": "execute_result",
          "data": {
            "text/plain": [
              "count    398.000000\n",
              "mean      23.514573\n",
              "std        7.815984\n",
              "min        9.000000\n",
              "25%       17.500000\n",
              "50%       23.000000\n",
              "75%       29.000000\n",
              "max       46.600000\n",
              "Name: mpg, dtype: float64"
            ]
          },
          "metadata": {},
          "execution_count": 8
        }
      ],
      "source": [
        "mpg.describe()"
      ]
    },
    {
      "cell_type": "markdown",
      "metadata": {
        "id": "dHWQ8imqm8Zb"
      },
      "source": [
        "The mpg of the least fuel efficient car is ... 9.0 miles per gallon!"
      ]
    },
    {
      "cell_type": "markdown",
      "metadata": {
        "id": "ceDBgJs9m8Zb"
      },
      "source": [
        "20. Get the __maximum Value__ in the Series __mpg__ by explicitly calling the ... method! The __most fuel efficient__ car has a __mpg__ of...?"
      ]
    },
    {
      "cell_type": "code",
      "execution_count": null,
      "metadata": {
        "id": "sPip1qTJm8Zb"
      },
      "outputs": [],
      "source": []
    },
    {
      "cell_type": "markdown",
      "metadata": {
        "id": "zwS-P_OWm8Zb"
      },
      "source": [
        "The most fuel efficient car has a mpg of... 46.6!"
      ]
    },
    {
      "cell_type": "markdown",
      "metadata": {
        "id": "i2cyDNspm8Zc"
      },
      "source": [
        "21. Get the Frequency/__Counts__ of all unique __values__ in the Series __mpg__! What is the __most frequent__ value?"
      ]
    },
    {
      "cell_type": "code",
      "execution_count": null,
      "metadata": {
        "scrolled": true,
        "id": "LOl1UpfGm8Zc"
      },
      "outputs": [],
      "source": []
    },
    {
      "cell_type": "markdown",
      "metadata": {
        "id": "0CSVy3f4m8Zc"
      },
      "source": [
        "The most frequent value is ... 13.0!"
      ]
    },
    {
      "cell_type": "markdown",
      "metadata": {
        "id": "VoY0PEo5m8Zc"
      },
      "source": [
        "22. Get the __relative frequencies__ in the Series __mpg__! What is the __relative frequency__ of the __most frequent value__?"
      ]
    },
    {
      "cell_type": "code",
      "execution_count": null,
      "metadata": {
        "scrolled": true,
        "id": "oq1llltam8Zc"
      },
      "outputs": [],
      "source": []
    },
    {
      "cell_type": "markdown",
      "metadata": {
        "id": "0d6avGJkm8Zd"
      },
      "source": [
        "The relative frequency of 13.0 is ... 0.050251!"
      ]
    },
    {
      "cell_type": "markdown",
      "metadata": {
        "id": "DGYqoAiqm8Zd"
      },
      "source": [
        "23. __Sort__ the Series __mpg__ from __low to high__! What is the __second lowest__ value?"
      ]
    },
    {
      "cell_type": "code",
      "execution_count": null,
      "metadata": {
        "scrolled": true,
        "id": "p0-FkTDfm8Zd"
      },
      "outputs": [],
      "source": []
    },
    {
      "cell_type": "markdown",
      "metadata": {
        "id": "l4TTsrhjm8Zd"
      },
      "source": [
        "The second lowest value is ... 10.0!"
      ]
    },
    {
      "cell_type": "markdown",
      "metadata": {
        "id": "WO7uUaiEm8Zd"
      },
      "source": [
        "24. __Sort__ the Series __mpg__ from __high to low__ and __save the changes__ by setting the __inplace__ parameter to __True__!  <br>\n",
        "__Fill in the gaps!__"
      ]
    },
    {
      "cell_type": "code",
      "execution_count": null,
      "metadata": {
        "id": "8JedNv2im8Zd"
      },
      "outputs": [],
      "source": [
        "mpg.sort_values(--- = ---, inplace = ---)"
      ]
    },
    {
      "cell_type": "markdown",
      "metadata": {
        "id": "WJ3l0YX5m8Ze"
      },
      "source": [
        "Inspect the __first 5 elements__ of mpg! What is the __second highest__ value?"
      ]
    },
    {
      "cell_type": "code",
      "execution_count": null,
      "metadata": {
        "scrolled": true,
        "id": "lzJYU8y3m8Ze"
      },
      "outputs": [],
      "source": [
        "#run the cell!\n",
        "mpg.head()"
      ]
    },
    {
      "cell_type": "markdown",
      "metadata": {
        "id": "Yr-F01NYm8Ze"
      },
      "source": [
        "The second highest value is ... 44.6!"
      ]
    },
    {
      "cell_type": "markdown",
      "metadata": {
        "id": "2OIQ2zhWm8Ze"
      },
      "source": [
        "25. __Sort__ the Series __mpg__ by the __Index__ and __save__ the changes!"
      ]
    },
    {
      "cell_type": "code",
      "execution_count": null,
      "metadata": {
        "id": "MUYXm5p-m8Ze"
      },
      "outputs": [],
      "source": []
    },
    {
      "cell_type": "code",
      "execution_count": null,
      "metadata": {
        "id": "eY4D7d5qm8Ze"
      },
      "outputs": [],
      "source": [
        "#run the cell!\n",
        "mpg"
      ]
    },
    {
      "cell_type": "markdown",
      "metadata": {
        "id": "JeFRJYlxm8Ze"
      },
      "source": [
        "__Miles per Gallon__ (mpg) can be transformed into __Liter per 100 Kilometer__ with the following formula:<br>\n",
        "__Liter per 100 Kilometer = 235.21 / mpg__<br><br>\n",
        "26. Create a new Pandas Series __l_per_100__ by applying the above formula! __Round__ the results to __2 decimals__! __Fill in the gaps__!"
      ]
    },
    {
      "cell_type": "code",
      "execution_count": null,
      "metadata": {
        "scrolled": true,
        "id": "pqb3QENym8Zf"
      },
      "outputs": [],
      "source": [
        "--- = (---/---).round(2)"
      ]
    },
    {
      "cell_type": "markdown",
      "metadata": {
        "id": "CRX4ZZLZm8Zf"
      },
      "source": [
        "Run and Inspect. What is the __very first__ element?"
      ]
    },
    {
      "cell_type": "code",
      "execution_count": null,
      "metadata": {
        "scrolled": true,
        "id": "9UolUYQbm8Zf"
      },
      "outputs": [],
      "source": [
        "#run the cell!\n",
        "l_per_100"
      ]
    },
    {
      "cell_type": "markdown",
      "metadata": {
        "id": "f0CLGp6Gm8Zf"
      },
      "source": [
        "The first element is ... 13.07!"
      ]
    },
    {
      "cell_type": "markdown",
      "metadata": {
        "id": "iCXpt9gAm8Zf"
      },
      "source": [
        "27. Get some __summary statistics__ on the Series __l_per_100__! What is the __average__ value?"
      ]
    },
    {
      "cell_type": "code",
      "execution_count": null,
      "metadata": {
        "id": "luT4T-gqm8Zf"
      },
      "outputs": [],
      "source": []
    },
    {
      "cell_type": "markdown",
      "metadata": {
        "id": "vUCWKC6Om8Zf"
      },
      "source": [
        "The average value is approx. ... 11.21!"
      ]
    },
    {
      "cell_type": "markdown",
      "metadata": {
        "id": "dZL-XOE7m8Zg"
      },
      "source": [
        "28. Select the non-numerical column __\"origin\"__, create a __copy__ and __save__ the column/Pandas Series in the variable __origin__! "
      ]
    },
    {
      "cell_type": "code",
      "execution_count": null,
      "metadata": {
        "id": "wcGcNI7jm8Zg"
      },
      "outputs": [],
      "source": []
    },
    {
      "cell_type": "markdown",
      "metadata": {
        "id": "dNAyjB3Am8Zg"
      },
      "source": [
        "Inspect! The first 5 elements are all...?"
      ]
    },
    {
      "cell_type": "code",
      "execution_count": null,
      "metadata": {
        "scrolled": true,
        "id": "71_HTiWPm8Zg"
      },
      "outputs": [],
      "source": [
        "#run the cell!\n",
        "origin"
      ]
    },
    {
      "cell_type": "markdown",
      "metadata": {
        "id": "7PSjusOYm8Zg"
      },
      "source": [
        "The first 5 elements are all ... usa!"
      ]
    },
    {
      "cell_type": "markdown",
      "metadata": {
        "id": "JIOgBd4Qm8Zg"
      },
      "source": [
        "29. Call the __describe()__ method on the non-numerical Series __\"origin\"__! What is the __most frequent__ value?"
      ]
    },
    {
      "cell_type": "code",
      "execution_count": null,
      "metadata": {
        "id": "bp905oslm8Zg"
      },
      "outputs": [],
      "source": []
    },
    {
      "cell_type": "markdown",
      "metadata": {
        "id": "79XHtLGnm8Zg"
      },
      "source": [
        "The most frequent value is ... usa!"
      ]
    },
    {
      "cell_type": "markdown",
      "metadata": {
        "id": "KI2FrFYZm8Zh"
      },
      "source": [
        "30. Get all __unique values__ in the Series __origin__! Apart from the value usa, there are also the values...?"
      ]
    },
    {
      "cell_type": "code",
      "execution_count": null,
      "metadata": {
        "id": "1t7Af_2Xm8Zh"
      },
      "outputs": [],
      "source": []
    },
    {
      "cell_type": "markdown",
      "metadata": {
        "id": "i1c5QRgym8Zh"
      },
      "source": [
        "... japan and europe!"
      ]
    },
    {
      "cell_type": "markdown",
      "metadata": {
        "id": "-sW-hKZzm8Zh"
      },
      "source": [
        "31. Last but not least, __count the frequencies__ in the Series __origin__! How often does the value __europe__ appear?"
      ]
    },
    {
      "cell_type": "code",
      "execution_count": null,
      "metadata": {
        "id": "2lK3unv3m8Zh"
      },
      "outputs": [],
      "source": []
    },
    {
      "cell_type": "markdown",
      "metadata": {
        "id": "cFonaP-Wm8Zh"
      },
      "source": [
        "The value europe appears ... 70 times!"
      ]
    },
    {
      "cell_type": "markdown",
      "metadata": {
        "id": "Vr4wSsSZm8Zh"
      },
      "source": [
        "# Well Done!"
      ]
    },
    {
      "cell_type": "markdown",
      "metadata": {
        "id": "piuYujQ9m8Zh"
      },
      "source": [
        "------------------------------------------------------------"
      ]
    },
    {
      "cell_type": "markdown",
      "metadata": {
        "id": "bxJ4XfPhm8Zi"
      },
      "source": [
        "# Hints (Spoiler!)"
      ]
    },
    {
      "cell_type": "markdown",
      "metadata": {
        "id": "cDCZp_Ytm8Zi"
      },
      "source": [
        "18. mpg"
      ]
    },
    {
      "cell_type": "markdown",
      "metadata": {
        "id": "PC9L9zEJm8Zi"
      },
      "source": [
        "19. describe() method"
      ]
    },
    {
      "cell_type": "markdown",
      "metadata": {
        "id": "D2NHE607m8Zi"
      },
      "source": [
        "20. max() method"
      ]
    },
    {
      "cell_type": "markdown",
      "metadata": {
        "id": "2v-rfqfCm8Zi"
      },
      "source": [
        "21. value_counts() method"
      ]
    },
    {
      "cell_type": "markdown",
      "metadata": {
        "id": "TPqa8gA8m8Zi"
      },
      "source": [
        "22. normalize parameter"
      ]
    },
    {
      "cell_type": "markdown",
      "metadata": {
        "id": "yrZxIVZpm8Zi"
      },
      "source": [
        "23. sort_values() method"
      ]
    },
    {
      "cell_type": "markdown",
      "metadata": {
        "id": "hIwMoBkZm8Zm"
      },
      "source": [
        "24. ascending & inplace parameter"
      ]
    },
    {
      "cell_type": "markdown",
      "metadata": {
        "id": "A7w1p9HAm8Zm"
      },
      "source": [
        "25. sort_index() method; inplace parameter"
      ]
    },
    {
      "cell_type": "markdown",
      "metadata": {
        "id": "VscZaUW_m8Zm"
      },
      "source": [
        "26. 235.21/mpg"
      ]
    },
    {
      "cell_type": "markdown",
      "metadata": {
        "id": "GMLsFwjom8Zn"
      },
      "source": [
        "27. describe() method"
      ]
    },
    {
      "cell_type": "markdown",
      "metadata": {
        "id": "rU9dc-XIm8Zn"
      },
      "source": [
        "28. cars.---.---()"
      ]
    },
    {
      "cell_type": "markdown",
      "metadata": {
        "id": "l5ESqzE-m8Zn"
      },
      "source": [
        "29. describe() method"
      ]
    },
    {
      "cell_type": "markdown",
      "metadata": {
        "id": "W39CJRNam8Zn"
      },
      "source": [
        "30. unique() method"
      ]
    },
    {
      "cell_type": "markdown",
      "metadata": {
        "id": "mA4h_I4_m8Zn"
      },
      "source": [
        "31. value_counts() method"
      ]
    },
    {
      "cell_type": "code",
      "execution_count": null,
      "metadata": {
        "id": "QnMY0-T_m8Zn"
      },
      "outputs": [],
      "source": []
    }
  ],
  "metadata": {
    "kernelspec": {
      "display_name": "Python 3",
      "language": "python",
      "name": "python3"
    },
    "language_info": {
      "codemirror_mode": {
        "name": "ipython",
        "version": 3
      },
      "file_extension": ".py",
      "mimetype": "text/x-python",
      "name": "python",
      "nbconvert_exporter": "python",
      "pygments_lexer": "ipython3",
      "version": "3.7.6"
    },
    "colab": {
      "provenance": [],
      "include_colab_link": true
    }
  },
  "nbformat": 4,
  "nbformat_minor": 0
}